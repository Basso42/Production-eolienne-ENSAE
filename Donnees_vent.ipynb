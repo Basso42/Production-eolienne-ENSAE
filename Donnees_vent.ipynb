{
 "cells": [
  {
   "cell_type": "markdown",
   "id": "9d6d0d94-0e02-494b-bc73-8b42fea6745e",
   "metadata": {},
   "source": [
    "### Code pour récupérer la base de données de vents"
   ]
  },
  {
   "cell_type": "markdown",
   "id": "df7211d6-4a2f-4170-93af-ea4df0eec8e6",
   "metadata": {},
   "source": [
    "On va extraire l'ensemble des vents pertinents pour les éoliennes en croisant leurs coordonnées avec celles des vents de météo-france."
   ]
  },
  {
   "cell_type": "code",
   "execution_count": 1,
   "id": "faa3b5de-604b-41f2-ac5d-4b5cb00b44dc",
   "metadata": {},
   "outputs": [],
   "source": [
    "import pandas as pd\n",
    "from shapely.geometry import Point\n",
    "import geopandas as gpd\n",
    "import csv\n",
    "import json\n",
    "import requests"
   ]
  },
  {
   "cell_type": "code",
   "execution_count": 2,
   "id": "720e7fea-fa9c-4444-b227-1bea9cc75792",
   "metadata": {
    "tags": []
   },
   "outputs": [],
   "source": [
    "#On récupère les éoliennes\n",
    "df = pd.read_csv(\"/home/onyxia/work/ProjPython2A/eolien.csv\", sep=\";\")"
   ]
  },
  {
   "cell_type": "markdown",
   "id": "b07aaf03-7480-4469-9aaf-bbfd41d7198b",
   "metadata": {},
   "source": [
    "Nous convertissons nos données afin qu'elles soient exploitables par geopandas"
   ]
  },
  {
   "cell_type": "markdown",
   "id": "37fd1361-4653-46ab-a7dc-5e38d40cd8d9",
   "metadata": {},
   "source": [
    "On crée la variable geometry qui nous permettra de manipuler la position des éoliennes plus simplement."
   ]
  },
  {
   "cell_type": "code",
   "execution_count": 3,
   "id": "8b32762e-7a45-4f05-92b3-276d224c7894",
   "metadata": {
    "tags": []
   },
   "outputs": [],
   "source": [
    "geometrie = [Point(xy) for xy in zip(df.x_aerogenerateur,df.y_aerogenerateur)] # colonnes du DataFrame résultants\n",
    "caract_eoliennes = gpd.GeoDataFrame(df,geometry=geometrie)\n",
    "caract_eoliennes = caract_eoliennes.set_crs(2154, allow_override=True)"
   ]
  },
  {
   "cell_type": "code",
   "execution_count": null,
   "id": "3757244b-6f8e-4627-8628-9ad9e959ccc5",
   "metadata": {
    "tags": []
   },
   "outputs": [],
   "source": [
    "#Le code est long à tourner et les données sont déjà fournies!\n",
    "\n",
    "caract_eoliennes = caract_eoliennes.to_crs(4326)\n",
    "\n",
    "base_url = \"https://archive-api.open-meteo.com/v1/era5?\"\n",
    "\n",
    "end_date=\"2022-01-01\"\n",
    "end_date_comparaison = pd.to_datetime(end_date)\n",
    "path = r'C:\\Users\\peign\\Desktop\\ProjetPython\\donnees_vent.csv'\n",
    "fichier_csv = open(path,'w',newline='')\n",
    "\n",
    "writer = csv.writer(fichier_csv)\n",
    "\n",
    "for eolienne in caract_eoliennes.itertuples():\n",
    "    a = eolienne.geometry\n",
    "    longitude=str(a.x)\n",
    "    latitude=str(a.y)\n",
    "    date = pd.to_datetime(eolienne.date_mise_en_service).date()\n",
    "    if pd.isnull(date):\n",
    "        start_date = \"2021-01-01\" \n",
    "    elif date < end_date_comparaison:\n",
    "        start_date=str(max(date, pd.to_datetime(\"2021-01-01\").date()))\n",
    "    complete_url = base_url + \"latitude=\" + latitude + \"&longitude=\" + longitude + \"&hourly=windspeed_10m&windspeed_unit=ms&start_date=\"+start_date+\"&end_date=\"+end_date\n",
    "    reponse = requests.get(complete_url)\n",
    "    donnees_vent_eolienne = pd.DataFrame(reponse.json())['hourly']\n",
    "    writer.writerow([eolienne.Index,donnees_vent_eolienne['time'],donnees_vent_eolienne['windspeed_10m']])\n",
    "    if eolienne.Index%50 == 0 : \n",
    "            print(eolienne.Index)"
   ]
  },
  {
   "cell_type": "markdown",
   "id": "03fb5d34-5820-46ea-8059-6e4930a8316b",
   "metadata": {
    "tags": []
   },
   "source": [
    "Ici on réalise le même code que précédemment mais pour obtenir la météo prédite\n"
   ]
  },
  {
   "cell_type": "code",
   "execution_count": null,
   "id": "526a0bd5-48a9-4c0a-ad14-9d92db3407a9",
   "metadata": {
    "tags": []
   },
   "outputs": [
    {
     "name": "stdout",
     "output_type": "stream",
     "text": [
      "0\n",
      "50\n",
      "100\n",
      "150\n",
      "200\n",
      "250\n",
      "300\n",
      "350\n",
      "400\n",
      "450\n"
     ]
    }
   ],
   "source": [
    "#Le code est long à tourner\n",
    "\n",
    "import csv\n",
    "\n",
    "caract_eoliennes = caract_eoliennes.to_crs(4326)\n",
    "\n",
    "base_url = \"https://api.open-meteo.com/v1/forecast?\"\n",
    "\n",
    "end_date_comparaison = pd.to_datetime(end_date)\n",
    "path = r'C:\\Users\\peign\\Desktop\\ProjetPython\\donnees_vent_prediction.csv'\n",
    "fichier_csv = open(path,'w',newline='')\n",
    "\n",
    "writer = csv.writer(fichier_csv)\n",
    "\n",
    "\n",
    "start_date = \"2022-12-13\"\n",
    "\n",
    "end_date = \"2022-12-15\"\n",
    "\n",
    "\n",
    "for eolienne in caract_eoliennes.itertuples():\n",
    "    a = eolienne.geometry\n",
    "    longitude=str(a.x)\n",
    "    latitude=str(a.y)\n",
    "    date = pd.to_datetime(eolienne.date_mise_en_service).date()\n",
    "    complete_url = base_url + \"latitude=\" + latitude + \"&longitude=\" + longitude + \"&hourly=windspeed_10m&windspeed_unit=ms&start_date=\"+start_date+\"&end_date=\"+end_date\n",
    "    reponse = requests.get(complete_url)\n",
    "    donnees_vent_eolienne = pd.DataFrame(reponse.json())['hourly']\n",
    "    writer.writerow([eolienne.Index,donnees_vent_eolienne['time'],donnees_vent_eolienne['windspeed_10m']])\n",
    "    if eolienne.Index%50 == 0 : \n",
    "            print(eolienne.Index)"
   ]
  }
 ],
 "metadata": {
  "kernelspec": {
   "display_name": "Python 3 (ipykernel)",
   "language": "python",
   "name": "python3"
  },
  "language_info": {
   "codemirror_mode": {
    "name": "ipython",
    "version": 3
   },
   "file_extension": ".py",
   "mimetype": "text/x-python",
   "name": "python",
   "nbconvert_exporter": "python",
   "pygments_lexer": "ipython3",
   "version": "3.10.4"
  }
 },
 "nbformat": 4,
 "nbformat_minor": 5
}
