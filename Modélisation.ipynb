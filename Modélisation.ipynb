{
 "cells": [
  {
   "cell_type": "markdown",
   "metadata": {},
   "source": [
    "# **Modélisation statistique**\n",
    "Nous allons mener des régressions linéaires de la production électrique éolienne (données API RTE) sur les données météorologiques de vents (données API ...)\n",
    "\n",
    "Dans un premier temps, nous allons créer un data frame qui contiendra la moyenne nationale de la production électrique éolienne ainsi que la moyenne des vents nationaux, heure par heure pour l'année 2021.\n",
    "Ensuite, nous affinerons l'analyse en faisant des régressions par région/année.\n",
    "\n",
    "### **1) Récupération des données**\n",
    "\n",
    "Dans un premier temps, nous cherchons à mettre les dates des données météorologique et des données RTE dans le même format. Le format cherché est, par exemple pour le 5 mai 2020 à 12h:\n",
    "\n",
    "**2020-05-05:12:00**\n",
    "\n",
    "#### **a) Données météorologiques**"
   ]
  },
  {
   "cell_type": "code",
   "execution_count": 2,
   "metadata": {},
   "outputs": [],
   "source": [
    "import pandas as pd"
   ]
  },
  {
   "cell_type": "code",
   "execution_count": 61,
   "metadata": {},
   "outputs": [],
   "source": [
    "donnees_vent = pd.read_csv(r'C:\\Users\\peign\\Desktop\\ProjetPython\\donnees_vent.csv', sep=\",\", names=['Index', 'Time', 'Windspeed'])"
   ]
  },
  {
   "cell_type": "code",
   "execution_count": 62,
   "metadata": {},
   "outputs": [
    {
     "data": {
      "text/html": [
       "<div>\n",
       "<style scoped>\n",
       "    .dataframe tbody tr th:only-of-type {\n",
       "        vertical-align: middle;\n",
       "    }\n",
       "\n",
       "    .dataframe tbody tr th {\n",
       "        vertical-align: top;\n",
       "    }\n",
       "\n",
       "    .dataframe thead th {\n",
       "        text-align: right;\n",
       "    }\n",
       "</style>\n",
       "<table border=\"1\" class=\"dataframe\">\n",
       "  <thead>\n",
       "    <tr style=\"text-align: right;\">\n",
       "      <th></th>\n",
       "      <th>Index</th>\n",
       "      <th>Time</th>\n",
       "      <th>Windspeed</th>\n",
       "    </tr>\n",
       "  </thead>\n",
       "  <tbody>\n",
       "    <tr>\n",
       "      <th>0</th>\n",
       "      <td>0</td>\n",
       "      <td>['2021-01-01T00:00', '2021-01-01T01:00', '2021...</td>\n",
       "      <td>[1.43, 1.25, 1.7, 2.02, 2.08, 2.42, 2.64, 2.86...</td>\n",
       "    </tr>\n",
       "    <tr>\n",
       "      <th>1</th>\n",
       "      <td>1</td>\n",
       "      <td>['2021-01-01T00:00', '2021-01-01T01:00', '2021...</td>\n",
       "      <td>[2.1, 2.18, 2.22, 2.18, 1.66, 1.75, 1.7, 1.71,...</td>\n",
       "    </tr>\n",
       "    <tr>\n",
       "      <th>2</th>\n",
       "      <td>2</td>\n",
       "      <td>['2021-01-01T00:00', '2021-01-01T01:00', '2021...</td>\n",
       "      <td>[2.1, 2.18, 2.22, 2.18, 1.66, 1.75, 1.7, 1.71,...</td>\n",
       "    </tr>\n",
       "    <tr>\n",
       "      <th>3</th>\n",
       "      <td>3</td>\n",
       "      <td>['2021-01-01T00:00', '2021-01-01T01:00', '2021...</td>\n",
       "      <td>[2.1, 2.18, 2.22, 2.18, 1.66, 1.75, 1.7, 1.71,...</td>\n",
       "    </tr>\n",
       "    <tr>\n",
       "      <th>4</th>\n",
       "      <td>12</td>\n",
       "      <td>['2021-01-01T00:00', '2021-01-01T01:00', '2021...</td>\n",
       "      <td>[1.66, 1.88, 1.97, 2.25, 1.43, 1.51, 1.43, 1.3...</td>\n",
       "    </tr>\n",
       "  </tbody>\n",
       "</table>\n",
       "</div>"
      ],
      "text/plain": [
       "   Index                                               Time  \\\n",
       "0      0  ['2021-01-01T00:00', '2021-01-01T01:00', '2021...   \n",
       "1      1  ['2021-01-01T00:00', '2021-01-01T01:00', '2021...   \n",
       "2      2  ['2021-01-01T00:00', '2021-01-01T01:00', '2021...   \n",
       "3      3  ['2021-01-01T00:00', '2021-01-01T01:00', '2021...   \n",
       "4     12  ['2021-01-01T00:00', '2021-01-01T01:00', '2021...   \n",
       "\n",
       "                                           Windspeed  \n",
       "0  [1.43, 1.25, 1.7, 2.02, 2.08, 2.42, 2.64, 2.86...  \n",
       "1  [2.1, 2.18, 2.22, 2.18, 1.66, 1.75, 1.7, 1.71,...  \n",
       "2  [2.1, 2.18, 2.22, 2.18, 1.66, 1.75, 1.7, 1.71,...  \n",
       "3  [2.1, 2.18, 2.22, 2.18, 1.66, 1.75, 1.7, 1.71,...  \n",
       "4  [1.66, 1.88, 1.97, 2.25, 1.43, 1.51, 1.43, 1.3...  "
      ]
     },
     "execution_count": 62,
     "metadata": {},
     "output_type": "execute_result"
    }
   ],
   "source": [
    "donnees_vent.head()"
   ]
  },
  {
   "cell_type": "markdown",
   "metadata": {},
   "source": [
    "Le format des données est le suivant:\n",
    "\n",
    "-L'index représente le numéro des éoliennes, numérotées de 0 à XXXX.\n",
    "\n",
    "-La variable \"Time\" contient la liste de toutes les dates auxquelles on observe la vitesse du vent à la position de l'éolienne.\n",
    "\n",
    "-La variable \"Windspeed\" contient la liste de la vitesse des vents.\n",
    "\n",
    "Dans un premier temps, on va chercher à \"nettoyer\" la variable \"Time\" afin de créer une liste de dates harmonisées."
   ]
  },
  {
   "cell_type": "code",
   "execution_count": 63,
   "metadata": {},
   "outputs": [
    {
     "data": {
      "text/plain": [
       "\"['2021-01-01T00:00', '2021-01-01T01:00', '2021-01-01T02:00', '2021-01-01T03:00', '2021-01-01T04:00', '2021-01-01T05:00', '2021-01-01T06:00', '2021-01-01T07:00', '2021-01-01T08:00', '2021-01-01T09:00', '2021-01-01T10:00', '2021-01-01T11:00', '2021-01-01T12:00', '2021-01-01T13:00', '2021-01-01T14:00', '2021-01-01T15:00', '2021-01-01T16:00', '2021-01-01T17:00', '2021-01-01T18:00', '2021-01-01T19:00', '2021-01-01T20:00', '2021-01-01T21:00', '2021-01-01T22:00', '2021-01-01T23:00', '2021-01-02T00:00', '2021-01-02T01:00', '2021-01-02T02:00', '2021-01-02T03:00', '2021-01-02T04:00', '2021-01-02T05:00', '2021-01-02T06:00', '2021-01-02T07:00', '2021-01-02T08:00', '2021-01-02T09:00', '2021-01-02T10:00', '2021-01-02T11:00', '2021-01-02T12:00', '2021-01-02T13:00', '2021-01-02T14:00', '2021-01-02T15:00', '2021-01-02T16:00', '2021-01-02T17:00', '2021-01-02T18:00', '2021-01-02T19:00', '2021-01-02T20:00', '2021-01-02T21:00', '2021-01-02T22:00', '2021-01-02T23:00']\""
      ]
     },
     "execution_count": 63,
     "metadata": {},
     "output_type": "execute_result"
    }
   ],
   "source": [
    "donnees_vent[\"Time\"][0]"
   ]
  },
  {
   "cell_type": "code",
   "execution_count": 64,
   "metadata": {},
   "outputs": [
    {
     "data": {
      "text/plain": [
       "str"
      ]
     },
     "execution_count": 64,
     "metadata": {},
     "output_type": "execute_result"
    }
   ],
   "source": [
    "type(donnees_vent[\"Time\"][0])"
   ]
  },
  {
   "cell_type": "code",
   "execution_count": 65,
   "metadata": {},
   "outputs": [],
   "source": [
    "caracteres_time = [\"'\",\"[\",\"]\",\"T\", \",\"]\n",
    "    \n",
    "for string in caracteres_time:\n",
    "    donnees_vent[\"Time\"] = donnees_vent[\"Time\"].apply(lambda x: x.replace(string, ''))"
   ]
  },
  {
   "cell_type": "code",
   "execution_count": 66,
   "metadata": {},
   "outputs": [
    {
     "data": {
      "text/plain": [
       "'2021-01-0100:00 2021-01-0101:00 2021-01-0102:00 2021-01-0103:00 2021-01-0104:00 2021-01-0105:00 2021-01-0106:00 2021-01-0107:00 2021-01-0108:00 2021-01-0109:00 2021-01-0110:00 2021-01-0111:00 2021-01-0112:00 2021-01-0113:00 2021-01-0114:00 2021-01-0115:00 2021-01-0116:00 2021-01-0117:00 2021-01-0118:00 2021-01-0119:00 2021-01-0120:00 2021-01-0121:00 2021-01-0122:00 2021-01-0123:00 2021-01-0200:00 2021-01-0201:00 2021-01-0202:00 2021-01-0203:00 2021-01-0204:00 2021-01-0205:00 2021-01-0206:00 2021-01-0207:00 2021-01-0208:00 2021-01-0209:00 2021-01-0210:00 2021-01-0211:00 2021-01-0212:00 2021-01-0213:00 2021-01-0214:00 2021-01-0215:00 2021-01-0216:00 2021-01-0217:00 2021-01-0218:00 2021-01-0219:00 2021-01-0220:00 2021-01-0221:00 2021-01-0222:00 2021-01-0223:00'"
      ]
     },
     "execution_count": 66,
     "metadata": {},
     "output_type": "execute_result"
    }
   ],
   "source": [
    "donnees_vent[\"Time\"][0]"
   ]
  },
  {
   "cell_type": "code",
   "execution_count": 67,
   "metadata": {},
   "outputs": [
    {
     "data": {
      "text/plain": [
       "'[1.43, 1.25, 1.7, 2.02, 2.08, 2.42, 2.64, 2.86, 2.78, 2.86, 2.66, 3.0, 3.11, 3.36, 3.52, 3.14, 2.33, 1.61, 2.01, 1.8, 1.82, 2.0, 1.1, 0.58, 0.0, 0.45, 1.42, 1.42, 0.94, 1.12, 0.85, 0.81, 0.78, 0.64, 0.41, 0.91, 1.4, 1.81, 2.06, 1.93, 1.97, 2.48, 2.8, 2.51, 1.97, 1.49, 1.33, 1.84]'"
      ]
     },
     "execution_count": 67,
     "metadata": {},
     "output_type": "execute_result"
    }
   ],
   "source": [
    "donnees_vent[\"Windspeed\"][0]"
   ]
  },
  {
   "cell_type": "code",
   "execution_count": 68,
   "metadata": {},
   "outputs": [],
   "source": [
    "caracteres_vent = [\"[\", \"]\", \",\"]\n",
    "\n",
    "for string in caracteres_vent:\n",
    "    donnees_vent[\"Windspeed\"] = donnees_vent[\"Windspeed\"].apply(lambda x: x.replace(string, ''))"
   ]
  },
  {
   "cell_type": "code",
   "execution_count": 69,
   "metadata": {},
   "outputs": [
    {
     "data": {
      "text/plain": [
       "'1.43 1.25 1.7 2.02 2.08 2.42 2.64 2.86 2.78 2.86 2.66 3.0 3.11 3.36 3.52 3.14 2.33 1.61 2.01 1.8 1.82 2.0 1.1 0.58 0.0 0.45 1.42 1.42 0.94 1.12 0.85 0.81 0.78 0.64 0.41 0.91 1.4 1.81 2.06 1.93 1.97 2.48 2.8 2.51 1.97 1.49 1.33 1.84'"
      ]
     },
     "execution_count": 69,
     "metadata": {},
     "output_type": "execute_result"
    }
   ],
   "source": [
    "donnees_vent[\"Windspeed\"][0]"
   ]
  },
  {
   "cell_type": "code",
   "execution_count": 70,
   "metadata": {},
   "outputs": [
    {
     "data": {
      "text/html": [
       "<div>\n",
       "<style scoped>\n",
       "    .dataframe tbody tr th:only-of-type {\n",
       "        vertical-align: middle;\n",
       "    }\n",
       "\n",
       "    .dataframe tbody tr th {\n",
       "        vertical-align: top;\n",
       "    }\n",
       "\n",
       "    .dataframe thead th {\n",
       "        text-align: right;\n",
       "    }\n",
       "</style>\n",
       "<table border=\"1\" class=\"dataframe\">\n",
       "  <thead>\n",
       "    <tr style=\"text-align: right;\">\n",
       "      <th></th>\n",
       "      <th>Index</th>\n",
       "      <th>Time</th>\n",
       "      <th>Windspeed</th>\n",
       "    </tr>\n",
       "  </thead>\n",
       "  <tbody>\n",
       "    <tr>\n",
       "      <th>0</th>\n",
       "      <td>0</td>\n",
       "      <td>2021-01-0100:00 2021-01-0101:00 2021-01-0102:0...</td>\n",
       "      <td>1.43 1.25 1.7 2.02 2.08 2.42 2.64 2.86 2.78 2....</td>\n",
       "    </tr>\n",
       "    <tr>\n",
       "      <th>1</th>\n",
       "      <td>1</td>\n",
       "      <td>2021-01-0100:00 2021-01-0101:00 2021-01-0102:0...</td>\n",
       "      <td>2.1 2.18 2.22 2.18 1.66 1.75 1.7 1.71 1.49 1.6...</td>\n",
       "    </tr>\n",
       "    <tr>\n",
       "      <th>2</th>\n",
       "      <td>2</td>\n",
       "      <td>2021-01-0100:00 2021-01-0101:00 2021-01-0102:0...</td>\n",
       "      <td>2.1 2.18 2.22 2.18 1.66 1.75 1.7 1.71 1.49 1.6...</td>\n",
       "    </tr>\n",
       "    <tr>\n",
       "      <th>3</th>\n",
       "      <td>3</td>\n",
       "      <td>2021-01-0100:00 2021-01-0101:00 2021-01-0102:0...</td>\n",
       "      <td>2.1 2.18 2.22 2.18 1.66 1.75 1.7 1.71 1.49 1.6...</td>\n",
       "    </tr>\n",
       "    <tr>\n",
       "      <th>4</th>\n",
       "      <td>12</td>\n",
       "      <td>2021-01-0100:00 2021-01-0101:00 2021-01-0102:0...</td>\n",
       "      <td>1.66 1.88 1.97 2.25 1.43 1.51 1.43 1.33 1.46 1...</td>\n",
       "    </tr>\n",
       "  </tbody>\n",
       "</table>\n",
       "</div>"
      ],
      "text/plain": [
       "   Index                                               Time  \\\n",
       "0      0  2021-01-0100:00 2021-01-0101:00 2021-01-0102:0...   \n",
       "1      1  2021-01-0100:00 2021-01-0101:00 2021-01-0102:0...   \n",
       "2      2  2021-01-0100:00 2021-01-0101:00 2021-01-0102:0...   \n",
       "3      3  2021-01-0100:00 2021-01-0101:00 2021-01-0102:0...   \n",
       "4     12  2021-01-0100:00 2021-01-0101:00 2021-01-0102:0...   \n",
       "\n",
       "                                           Windspeed  \n",
       "0  1.43 1.25 1.7 2.02 2.08 2.42 2.64 2.86 2.78 2....  \n",
       "1  2.1 2.18 2.22 2.18 1.66 1.75 1.7 1.71 1.49 1.6...  \n",
       "2  2.1 2.18 2.22 2.18 1.66 1.75 1.7 1.71 1.49 1.6...  \n",
       "3  2.1 2.18 2.22 2.18 1.66 1.75 1.7 1.71 1.49 1.6...  \n",
       "4  1.66 1.88 1.97 2.25 1.43 1.51 1.43 1.33 1.46 1...  "
      ]
     },
     "execution_count": 70,
     "metadata": {},
     "output_type": "execute_result"
    }
   ],
   "source": [
    "donnees_vent.head()"
   ]
  },
  {
   "cell_type": "markdown",
   "metadata": {},
   "source": [
    "Maintenant que les variables \"Time\" et \"Windspeed\" sont nettoyées, on va utiliser la fonction explode afin d'avoir une base de données \"classique\" pour pouvoir faire des régressions. Nous allons étendre les listes afin que chaque vent soit associé à une date précise.\n",
    "\n",
    "Premièrement, on convertit nos données considérés comme \"string\" en liste."
   ]
  },
  {
   "cell_type": "code",
   "execution_count": 71,
   "metadata": {},
   "outputs": [],
   "source": [
    "donnees_vent[\"Time\"] = donnees_vent[\"Time\"].str.split(' ')\n",
    "donnees_vent[\"Time\"] = donnees_vent[\"Time\"].tolist()"
   ]
  },
  {
   "cell_type": "code",
   "execution_count": 72,
   "metadata": {},
   "outputs": [],
   "source": [
    "donnees_vent[\"Windspeed\"] = donnees_vent[\"Windspeed\"].str.split(' ')\n",
    "donnees_vent[\"Windspeed\"] = donnees_vent[\"Windspeed\"].tolist()"
   ]
  },
  {
   "cell_type": "code",
   "execution_count": 73,
   "metadata": {},
   "outputs": [
    {
     "data": {
      "text/html": [
       "<div>\n",
       "<style scoped>\n",
       "    .dataframe tbody tr th:only-of-type {\n",
       "        vertical-align: middle;\n",
       "    }\n",
       "\n",
       "    .dataframe tbody tr th {\n",
       "        vertical-align: top;\n",
       "    }\n",
       "\n",
       "    .dataframe thead th {\n",
       "        text-align: right;\n",
       "    }\n",
       "</style>\n",
       "<table border=\"1\" class=\"dataframe\">\n",
       "  <thead>\n",
       "    <tr style=\"text-align: right;\">\n",
       "      <th></th>\n",
       "      <th>Index</th>\n",
       "      <th>Time</th>\n",
       "      <th>Windspeed</th>\n",
       "    </tr>\n",
       "  </thead>\n",
       "  <tbody>\n",
       "    <tr>\n",
       "      <th>0</th>\n",
       "      <td>0</td>\n",
       "      <td>[2021-01-0100:00, 2021-01-0101:00, 2021-01-010...</td>\n",
       "      <td>[1.43, 1.25, 1.7, 2.02, 2.08, 2.42, 2.64, 2.86...</td>\n",
       "    </tr>\n",
       "    <tr>\n",
       "      <th>1</th>\n",
       "      <td>1</td>\n",
       "      <td>[2021-01-0100:00, 2021-01-0101:00, 2021-01-010...</td>\n",
       "      <td>[2.1, 2.18, 2.22, 2.18, 1.66, 1.75, 1.7, 1.71,...</td>\n",
       "    </tr>\n",
       "    <tr>\n",
       "      <th>2</th>\n",
       "      <td>2</td>\n",
       "      <td>[2021-01-0100:00, 2021-01-0101:00, 2021-01-010...</td>\n",
       "      <td>[2.1, 2.18, 2.22, 2.18, 1.66, 1.75, 1.7, 1.71,...</td>\n",
       "    </tr>\n",
       "    <tr>\n",
       "      <th>3</th>\n",
       "      <td>3</td>\n",
       "      <td>[2021-01-0100:00, 2021-01-0101:00, 2021-01-010...</td>\n",
       "      <td>[2.1, 2.18, 2.22, 2.18, 1.66, 1.75, 1.7, 1.71,...</td>\n",
       "    </tr>\n",
       "    <tr>\n",
       "      <th>4</th>\n",
       "      <td>12</td>\n",
       "      <td>[2021-01-0100:00, 2021-01-0101:00, 2021-01-010...</td>\n",
       "      <td>[1.66, 1.88, 1.97, 2.25, 1.43, 1.51, 1.43, 1.3...</td>\n",
       "    </tr>\n",
       "  </tbody>\n",
       "</table>\n",
       "</div>"
      ],
      "text/plain": [
       "   Index                                               Time  \\\n",
       "0      0  [2021-01-0100:00, 2021-01-0101:00, 2021-01-010...   \n",
       "1      1  [2021-01-0100:00, 2021-01-0101:00, 2021-01-010...   \n",
       "2      2  [2021-01-0100:00, 2021-01-0101:00, 2021-01-010...   \n",
       "3      3  [2021-01-0100:00, 2021-01-0101:00, 2021-01-010...   \n",
       "4     12  [2021-01-0100:00, 2021-01-0101:00, 2021-01-010...   \n",
       "\n",
       "                                           Windspeed  \n",
       "0  [1.43, 1.25, 1.7, 2.02, 2.08, 2.42, 2.64, 2.86...  \n",
       "1  [2.1, 2.18, 2.22, 2.18, 1.66, 1.75, 1.7, 1.71,...  \n",
       "2  [2.1, 2.18, 2.22, 2.18, 1.66, 1.75, 1.7, 1.71,...  \n",
       "3  [2.1, 2.18, 2.22, 2.18, 1.66, 1.75, 1.7, 1.71,...  \n",
       "4  [1.66, 1.88, 1.97, 2.25, 1.43, 1.51, 1.43, 1.3...  "
      ]
     },
     "execution_count": 73,
     "metadata": {},
     "output_type": "execute_result"
    }
   ],
   "source": [
    "donnees_vent.head()"
   ]
  },
  {
   "cell_type": "code",
   "execution_count": 74,
   "metadata": {
    "collapsed": true,
    "jupyter": {
     "outputs_hidden": true
    }
   },
   "outputs": [
    {
     "data": {
      "text/plain": [
       "['2021-01-0100:00',\n",
       " '2021-01-0101:00',\n",
       " '2021-01-0102:00',\n",
       " '2021-01-0103:00',\n",
       " '2021-01-0104:00',\n",
       " '2021-01-0105:00',\n",
       " '2021-01-0106:00',\n",
       " '2021-01-0107:00',\n",
       " '2021-01-0108:00',\n",
       " '2021-01-0109:00',\n",
       " '2021-01-0110:00',\n",
       " '2021-01-0111:00',\n",
       " '2021-01-0112:00',\n",
       " '2021-01-0113:00',\n",
       " '2021-01-0114:00',\n",
       " '2021-01-0115:00',\n",
       " '2021-01-0116:00',\n",
       " '2021-01-0117:00',\n",
       " '2021-01-0118:00',\n",
       " '2021-01-0119:00',\n",
       " '2021-01-0120:00',\n",
       " '2021-01-0121:00',\n",
       " '2021-01-0122:00',\n",
       " '2021-01-0123:00',\n",
       " '2021-01-0200:00',\n",
       " '2021-01-0201:00',\n",
       " '2021-01-0202:00',\n",
       " '2021-01-0203:00',\n",
       " '2021-01-0204:00',\n",
       " '2021-01-0205:00',\n",
       " '2021-01-0206:00',\n",
       " '2021-01-0207:00',\n",
       " '2021-01-0208:00',\n",
       " '2021-01-0209:00',\n",
       " '2021-01-0210:00',\n",
       " '2021-01-0211:00',\n",
       " '2021-01-0212:00',\n",
       " '2021-01-0213:00',\n",
       " '2021-01-0214:00',\n",
       " '2021-01-0215:00',\n",
       " '2021-01-0216:00',\n",
       " '2021-01-0217:00',\n",
       " '2021-01-0218:00',\n",
       " '2021-01-0219:00',\n",
       " '2021-01-0220:00',\n",
       " '2021-01-0221:00',\n",
       " '2021-01-0222:00',\n",
       " '2021-01-0223:00']"
      ]
     },
     "execution_count": 74,
     "metadata": {},
     "output_type": "execute_result"
    }
   ],
   "source": [
    "donnees_vent[\"Time\"][0]"
   ]
  },
  {
   "cell_type": "code",
   "execution_count": 75,
   "metadata": {
    "collapsed": true,
    "jupyter": {
     "outputs_hidden": true
    }
   },
   "outputs": [
    {
     "data": {
      "text/plain": [
       "['1.43',\n",
       " '1.25',\n",
       " '1.7',\n",
       " '2.02',\n",
       " '2.08',\n",
       " '2.42',\n",
       " '2.64',\n",
       " '2.86',\n",
       " '2.78',\n",
       " '2.86',\n",
       " '2.66',\n",
       " '3.0',\n",
       " '3.11',\n",
       " '3.36',\n",
       " '3.52',\n",
       " '3.14',\n",
       " '2.33',\n",
       " '1.61',\n",
       " '2.01',\n",
       " '1.8',\n",
       " '1.82',\n",
       " '2.0',\n",
       " '1.1',\n",
       " '0.58',\n",
       " '0.0',\n",
       " '0.45',\n",
       " '1.42',\n",
       " '1.42',\n",
       " '0.94',\n",
       " '1.12',\n",
       " '0.85',\n",
       " '0.81',\n",
       " '0.78',\n",
       " '0.64',\n",
       " '0.41',\n",
       " '0.91',\n",
       " '1.4',\n",
       " '1.81',\n",
       " '2.06',\n",
       " '1.93',\n",
       " '1.97',\n",
       " '2.48',\n",
       " '2.8',\n",
       " '2.51',\n",
       " '1.97',\n",
       " '1.49',\n",
       " '1.33',\n",
       " '1.84']"
      ]
     },
     "execution_count": 75,
     "metadata": {},
     "output_type": "execute_result"
    }
   ],
   "source": [
    "donnees_vent[\"Windspeed\"][0]"
   ]
  },
  {
   "cell_type": "code",
   "execution_count": 76,
   "metadata": {},
   "outputs": [],
   "source": [
    "donnees_vent = donnees_vent.set_index(['Index']).apply(pd.Series.explode).reset_index()"
   ]
  },
  {
   "cell_type": "code",
   "execution_count": 80,
   "metadata": {},
   "outputs": [
    {
     "data": {
      "text/html": [
       "<div>\n",
       "<style scoped>\n",
       "    .dataframe tbody tr th:only-of-type {\n",
       "        vertical-align: middle;\n",
       "    }\n",
       "\n",
       "    .dataframe tbody tr th {\n",
       "        vertical-align: top;\n",
       "    }\n",
       "\n",
       "    .dataframe thead th {\n",
       "        text-align: right;\n",
       "    }\n",
       "</style>\n",
       "<table border=\"1\" class=\"dataframe\">\n",
       "  <thead>\n",
       "    <tr style=\"text-align: right;\">\n",
       "      <th></th>\n",
       "      <th>Index</th>\n",
       "      <th>Time</th>\n",
       "      <th>Windspeed</th>\n",
       "    </tr>\n",
       "  </thead>\n",
       "  <tbody>\n",
       "    <tr>\n",
       "      <th>0</th>\n",
       "      <td>0</td>\n",
       "      <td>2021-01-0100:00</td>\n",
       "      <td>1.43</td>\n",
       "    </tr>\n",
       "    <tr>\n",
       "      <th>1</th>\n",
       "      <td>0</td>\n",
       "      <td>2021-01-0101:00</td>\n",
       "      <td>1.25</td>\n",
       "    </tr>\n",
       "    <tr>\n",
       "      <th>2</th>\n",
       "      <td>0</td>\n",
       "      <td>2021-01-0102:00</td>\n",
       "      <td>1.7</td>\n",
       "    </tr>\n",
       "    <tr>\n",
       "      <th>3</th>\n",
       "      <td>0</td>\n",
       "      <td>2021-01-0103:00</td>\n",
       "      <td>2.02</td>\n",
       "    </tr>\n",
       "    <tr>\n",
       "      <th>4</th>\n",
       "      <td>0</td>\n",
       "      <td>2021-01-0104:00</td>\n",
       "      <td>2.08</td>\n",
       "    </tr>\n",
       "    <tr>\n",
       "      <th>...</th>\n",
       "      <td>...</td>\n",
       "      <td>...</td>\n",
       "      <td>...</td>\n",
       "    </tr>\n",
       "    <tr>\n",
       "      <th>185803</th>\n",
       "      <td>7465</td>\n",
       "      <td>2021-01-0219:00</td>\n",
       "      <td>1.3</td>\n",
       "    </tr>\n",
       "    <tr>\n",
       "      <th>185804</th>\n",
       "      <td>7465</td>\n",
       "      <td>2021-01-0220:00</td>\n",
       "      <td>1.36</td>\n",
       "    </tr>\n",
       "    <tr>\n",
       "      <th>185805</th>\n",
       "      <td>7465</td>\n",
       "      <td>2021-01-0221:00</td>\n",
       "      <td>1.56</td>\n",
       "    </tr>\n",
       "    <tr>\n",
       "      <th>185806</th>\n",
       "      <td>7465</td>\n",
       "      <td>2021-01-0222:00</td>\n",
       "      <td>1.24</td>\n",
       "    </tr>\n",
       "    <tr>\n",
       "      <th>185807</th>\n",
       "      <td>7465</td>\n",
       "      <td>2021-01-0223:00</td>\n",
       "      <td>1.35</td>\n",
       "    </tr>\n",
       "  </tbody>\n",
       "</table>\n",
       "<p>185808 rows × 3 columns</p>\n",
       "</div>"
      ],
      "text/plain": [
       "        Index             Time Windspeed\n",
       "0           0  2021-01-0100:00      1.43\n",
       "1           0  2021-01-0101:00      1.25\n",
       "2           0  2021-01-0102:00       1.7\n",
       "3           0  2021-01-0103:00      2.02\n",
       "4           0  2021-01-0104:00      2.08\n",
       "...       ...              ...       ...\n",
       "185803   7465  2021-01-0219:00       1.3\n",
       "185804   7465  2021-01-0220:00      1.36\n",
       "185805   7465  2021-01-0221:00      1.56\n",
       "185806   7465  2021-01-0222:00      1.24\n",
       "185807   7465  2021-01-0223:00      1.35\n",
       "\n",
       "[185808 rows x 3 columns]"
      ]
     },
     "execution_count": 80,
     "metadata": {},
     "output_type": "execute_result"
    }
   ],
   "source": [
    "donnees_vent"
   ]
  },
  {
   "cell_type": "code",
   "execution_count": 95,
   "metadata": {},
   "outputs": [],
   "source": [
    "donnees_vent[\"Windspeed\"] = donnees_vent[\"Windspeed\"].astype(float)\n",
    "donnees_vent[\"Index\"] = donnees_vent[\"Index\"].astype(str)"
   ]
  },
  {
   "cell_type": "code",
   "execution_count": 119,
   "metadata": {},
   "outputs": [
    {
     "data": {
      "text/plain": [
       "Windspeed    48\n",
       "dtype: int64"
      ]
     },
     "execution_count": 119,
     "metadata": {},
     "output_type": "execute_result"
    }
   ],
   "source": [
    "vent_moyen = donnees_vent.groupby(['Time']).mean()\n",
    "vent_moyen.count()"
   ]
  },
  {
   "cell_type": "code",
   "execution_count": 120,
   "metadata": {},
   "outputs": [],
   "source": [
    "vent_moyen = vent_moyen.iloc[range(0,24,1)]"
   ]
  },
  {
   "cell_type": "code",
   "execution_count": 121,
   "metadata": {
    "collapsed": true,
    "jupyter": {
     "outputs_hidden": true
    }
   },
   "outputs": [
    {
     "data": {
      "text/html": [
       "<div>\n",
       "<style scoped>\n",
       "    .dataframe tbody tr th:only-of-type {\n",
       "        vertical-align: middle;\n",
       "    }\n",
       "\n",
       "    .dataframe tbody tr th {\n",
       "        vertical-align: top;\n",
       "    }\n",
       "\n",
       "    .dataframe thead th {\n",
       "        text-align: right;\n",
       "    }\n",
       "</style>\n",
       "<table border=\"1\" class=\"dataframe\">\n",
       "  <thead>\n",
       "    <tr style=\"text-align: right;\">\n",
       "      <th></th>\n",
       "      <th>Windspeed</th>\n",
       "    </tr>\n",
       "    <tr>\n",
       "      <th>Time</th>\n",
       "      <th></th>\n",
       "    </tr>\n",
       "  </thead>\n",
       "  <tbody>\n",
       "    <tr>\n",
       "      <th>2021-01-0100:00</th>\n",
       "      <td>1.806471</td>\n",
       "    </tr>\n",
       "    <tr>\n",
       "      <th>2021-01-0101:00</th>\n",
       "      <td>1.877474</td>\n",
       "    </tr>\n",
       "    <tr>\n",
       "      <th>2021-01-0102:00</th>\n",
       "      <td>1.918073</td>\n",
       "    </tr>\n",
       "    <tr>\n",
       "      <th>2021-01-0103:00</th>\n",
       "      <td>1.907399</td>\n",
       "    </tr>\n",
       "    <tr>\n",
       "      <th>2021-01-0104:00</th>\n",
       "      <td>1.932054</td>\n",
       "    </tr>\n",
       "    <tr>\n",
       "      <th>2021-01-0105:00</th>\n",
       "      <td>1.947063</td>\n",
       "    </tr>\n",
       "    <tr>\n",
       "      <th>2021-01-0106:00</th>\n",
       "      <td>1.904035</td>\n",
       "    </tr>\n",
       "    <tr>\n",
       "      <th>2021-01-0107:00</th>\n",
       "      <td>1.912134</td>\n",
       "    </tr>\n",
       "    <tr>\n",
       "      <th>2021-01-0108:00</th>\n",
       "      <td>1.889768</td>\n",
       "    </tr>\n",
       "    <tr>\n",
       "      <th>2021-01-0109:00</th>\n",
       "      <td>2.056678</td>\n",
       "    </tr>\n",
       "    <tr>\n",
       "      <th>2021-01-0110:00</th>\n",
       "      <td>2.034038</td>\n",
       "    </tr>\n",
       "    <tr>\n",
       "      <th>2021-01-0111:00</th>\n",
       "      <td>2.258334</td>\n",
       "    </tr>\n",
       "    <tr>\n",
       "      <th>2021-01-0112:00</th>\n",
       "      <td>2.407417</td>\n",
       "    </tr>\n",
       "    <tr>\n",
       "      <th>2021-01-0113:00</th>\n",
       "      <td>2.526058</td>\n",
       "    </tr>\n",
       "    <tr>\n",
       "      <th>2021-01-0114:00</th>\n",
       "      <td>2.563188</td>\n",
       "    </tr>\n",
       "    <tr>\n",
       "      <th>2021-01-0115:00</th>\n",
       "      <td>2.387476</td>\n",
       "    </tr>\n",
       "    <tr>\n",
       "      <th>2021-01-0116:00</th>\n",
       "      <td>2.156184</td>\n",
       "    </tr>\n",
       "    <tr>\n",
       "      <th>2021-01-0117:00</th>\n",
       "      <td>2.166399</td>\n",
       "    </tr>\n",
       "    <tr>\n",
       "      <th>2021-01-0118:00</th>\n",
       "      <td>2.189600</td>\n",
       "    </tr>\n",
       "    <tr>\n",
       "      <th>2021-01-0119:00</th>\n",
       "      <td>2.168879</td>\n",
       "    </tr>\n",
       "    <tr>\n",
       "      <th>2021-01-0120:00</th>\n",
       "      <td>2.154758</td>\n",
       "    </tr>\n",
       "    <tr>\n",
       "      <th>2021-01-0121:00</th>\n",
       "      <td>2.099576</td>\n",
       "    </tr>\n",
       "    <tr>\n",
       "      <th>2021-01-0122:00</th>\n",
       "      <td>1.826014</td>\n",
       "    </tr>\n",
       "    <tr>\n",
       "      <th>2021-01-0123:00</th>\n",
       "      <td>1.877228</td>\n",
       "    </tr>\n",
       "  </tbody>\n",
       "</table>\n",
       "</div>"
      ],
      "text/plain": [
       "                 Windspeed\n",
       "Time                      \n",
       "2021-01-0100:00   1.806471\n",
       "2021-01-0101:00   1.877474\n",
       "2021-01-0102:00   1.918073\n",
       "2021-01-0103:00   1.907399\n",
       "2021-01-0104:00   1.932054\n",
       "2021-01-0105:00   1.947063\n",
       "2021-01-0106:00   1.904035\n",
       "2021-01-0107:00   1.912134\n",
       "2021-01-0108:00   1.889768\n",
       "2021-01-0109:00   2.056678\n",
       "2021-01-0110:00   2.034038\n",
       "2021-01-0111:00   2.258334\n",
       "2021-01-0112:00   2.407417\n",
       "2021-01-0113:00   2.526058\n",
       "2021-01-0114:00   2.563188\n",
       "2021-01-0115:00   2.387476\n",
       "2021-01-0116:00   2.156184\n",
       "2021-01-0117:00   2.166399\n",
       "2021-01-0118:00   2.189600\n",
       "2021-01-0119:00   2.168879\n",
       "2021-01-0120:00   2.154758\n",
       "2021-01-0121:00   2.099576\n",
       "2021-01-0122:00   1.826014\n",
       "2021-01-0123:00   1.877228"
      ]
     },
     "execution_count": 121,
     "metadata": {},
     "output_type": "execute_result"
    }
   ],
   "source": [
    "vent_moyen"
   ]
  },
  {
   "cell_type": "markdown",
   "metadata": {},
   "source": [
    "#### **b) Données RTE**\n",
    "On importe les données RTE auparavant obtenu grâce à une API.\n",
    "\n",
    "**Pour l'instant:** données test de Janvier à Février 2020"
   ]
  },
  {
   "cell_type": "code",
   "execution_count": 3,
   "metadata": {},
   "outputs": [],
   "source": [
    "data_RTE = pd.read_csv('RTE_test.csv')"
   ]
  },
  {
   "cell_type": "code",
   "execution_count": 97,
   "metadata": {
    "collapsed": true,
    "jupyter": {
     "outputs_hidden": true
    }
   },
   "outputs": [
    {
     "data": {
      "text/html": [
       "<div>\n",
       "<style scoped>\n",
       "    .dataframe tbody tr th:only-of-type {\n",
       "        vertical-align: middle;\n",
       "    }\n",
       "\n",
       "    .dataframe tbody tr th {\n",
       "        vertical-align: top;\n",
       "    }\n",
       "\n",
       "    .dataframe thead th {\n",
       "        text-align: right;\n",
       "    }\n",
       "</style>\n",
       "<table border=\"1\" class=\"dataframe\">\n",
       "  <thead>\n",
       "    <tr style=\"text-align: right;\">\n",
       "      <th></th>\n",
       "      <th>Index</th>\n",
       "      <th>Time</th>\n",
       "      <th>Electricity</th>\n",
       "    </tr>\n",
       "  </thead>\n",
       "  <tbody>\n",
       "    <tr>\n",
       "      <th>0</th>\n",
       "      <td>0</td>\n",
       "      <td>2021-01-0100:00</td>\n",
       "      <td>1082</td>\n",
       "    </tr>\n",
       "    <tr>\n",
       "      <th>1</th>\n",
       "      <td>1</td>\n",
       "      <td>2021-01-0101:00</td>\n",
       "      <td>1075</td>\n",
       "    </tr>\n",
       "    <tr>\n",
       "      <th>2</th>\n",
       "      <td>2</td>\n",
       "      <td>2021-01-0102:00</td>\n",
       "      <td>1086</td>\n",
       "    </tr>\n",
       "    <tr>\n",
       "      <th>3</th>\n",
       "      <td>3</td>\n",
       "      <td>2021-01-0103:00</td>\n",
       "      <td>1149</td>\n",
       "    </tr>\n",
       "    <tr>\n",
       "      <th>4</th>\n",
       "      <td>4</td>\n",
       "      <td>2021-01-0104:00</td>\n",
       "      <td>1170</td>\n",
       "    </tr>\n",
       "    <tr>\n",
       "      <th>5</th>\n",
       "      <td>5</td>\n",
       "      <td>2021-01-0105:00</td>\n",
       "      <td>1190</td>\n",
       "    </tr>\n",
       "    <tr>\n",
       "      <th>6</th>\n",
       "      <td>6</td>\n",
       "      <td>2021-01-0106:00</td>\n",
       "      <td>1261</td>\n",
       "    </tr>\n",
       "    <tr>\n",
       "      <th>7</th>\n",
       "      <td>7</td>\n",
       "      <td>2021-01-0107:00</td>\n",
       "      <td>1275</td>\n",
       "    </tr>\n",
       "    <tr>\n",
       "      <th>8</th>\n",
       "      <td>8</td>\n",
       "      <td>2021-01-0108:00</td>\n",
       "      <td>1323</td>\n",
       "    </tr>\n",
       "    <tr>\n",
       "      <th>9</th>\n",
       "      <td>9</td>\n",
       "      <td>2021-01-0109:00</td>\n",
       "      <td>1294</td>\n",
       "    </tr>\n",
       "    <tr>\n",
       "      <th>10</th>\n",
       "      <td>10</td>\n",
       "      <td>2021-01-0110:00</td>\n",
       "      <td>1237</td>\n",
       "    </tr>\n",
       "    <tr>\n",
       "      <th>11</th>\n",
       "      <td>11</td>\n",
       "      <td>2021-01-0111:00</td>\n",
       "      <td>1156</td>\n",
       "    </tr>\n",
       "    <tr>\n",
       "      <th>12</th>\n",
       "      <td>12</td>\n",
       "      <td>2021-01-0112:00</td>\n",
       "      <td>1054</td>\n",
       "    </tr>\n",
       "    <tr>\n",
       "      <th>13</th>\n",
       "      <td>13</td>\n",
       "      <td>2021-01-0113:00</td>\n",
       "      <td>1036</td>\n",
       "    </tr>\n",
       "    <tr>\n",
       "      <th>14</th>\n",
       "      <td>14</td>\n",
       "      <td>2021-01-0114:00</td>\n",
       "      <td>1136</td>\n",
       "    </tr>\n",
       "    <tr>\n",
       "      <th>15</th>\n",
       "      <td>15</td>\n",
       "      <td>2021-01-0115:00</td>\n",
       "      <td>1226</td>\n",
       "    </tr>\n",
       "    <tr>\n",
       "      <th>16</th>\n",
       "      <td>16</td>\n",
       "      <td>2021-01-0116:00</td>\n",
       "      <td>1299</td>\n",
       "    </tr>\n",
       "    <tr>\n",
       "      <th>17</th>\n",
       "      <td>17</td>\n",
       "      <td>2021-01-0117:00</td>\n",
       "      <td>1434</td>\n",
       "    </tr>\n",
       "    <tr>\n",
       "      <th>18</th>\n",
       "      <td>18</td>\n",
       "      <td>2021-01-0118:00</td>\n",
       "      <td>1608</td>\n",
       "    </tr>\n",
       "    <tr>\n",
       "      <th>19</th>\n",
       "      <td>19</td>\n",
       "      <td>2021-01-0119:00</td>\n",
       "      <td>1645</td>\n",
       "    </tr>\n",
       "    <tr>\n",
       "      <th>20</th>\n",
       "      <td>20</td>\n",
       "      <td>2021-01-0120:00</td>\n",
       "      <td>1632</td>\n",
       "    </tr>\n",
       "    <tr>\n",
       "      <th>21</th>\n",
       "      <td>21</td>\n",
       "      <td>2021-01-0121:00</td>\n",
       "      <td>1570</td>\n",
       "    </tr>\n",
       "    <tr>\n",
       "      <th>22</th>\n",
       "      <td>22</td>\n",
       "      <td>2021-01-0122:00</td>\n",
       "      <td>1502</td>\n",
       "    </tr>\n",
       "    <tr>\n",
       "      <th>23</th>\n",
       "      <td>23</td>\n",
       "      <td>2021-01-0123:00</td>\n",
       "      <td>1486</td>\n",
       "    </tr>\n",
       "  </tbody>\n",
       "</table>\n",
       "</div>"
      ],
      "text/plain": [
       "    Index             Time  Electricity\n",
       "0       0  2021-01-0100:00         1082\n",
       "1       1  2021-01-0101:00         1075\n",
       "2       2  2021-01-0102:00         1086\n",
       "3       3  2021-01-0103:00         1149\n",
       "4       4  2021-01-0104:00         1170\n",
       "5       5  2021-01-0105:00         1190\n",
       "6       6  2021-01-0106:00         1261\n",
       "7       7  2021-01-0107:00         1275\n",
       "8       8  2021-01-0108:00         1323\n",
       "9       9  2021-01-0109:00         1294\n",
       "10     10  2021-01-0110:00         1237\n",
       "11     11  2021-01-0111:00         1156\n",
       "12     12  2021-01-0112:00         1054\n",
       "13     13  2021-01-0113:00         1036\n",
       "14     14  2021-01-0114:00         1136\n",
       "15     15  2021-01-0115:00         1226\n",
       "16     16  2021-01-0116:00         1299\n",
       "17     17  2021-01-0117:00         1434\n",
       "18     18  2021-01-0118:00         1608\n",
       "19     19  2021-01-0119:00         1645\n",
       "20     20  2021-01-0120:00         1632\n",
       "21     21  2021-01-0121:00         1570\n",
       "22     22  2021-01-0122:00         1502\n",
       "23     23  2021-01-0123:00         1486"
      ]
     },
     "execution_count": 97,
     "metadata": {},
     "output_type": "execute_result"
    }
   ],
   "source": [
    "data_RTE"
   ]
  },
  {
   "cell_type": "markdown",
   "metadata": {},
   "source": [
    "On renomme les trois colonnes nécessaires et on enlève les colonnes inutiles"
   ]
  },
  {
   "cell_type": "code",
   "execution_count": 5,
   "metadata": {},
   "outputs": [],
   "source": [
    "columns_to_drop = ['end_date', 'updated_date']\n",
    "data_RTE = data_RTE.drop(columns_to_drop, axis=1)\n",
    "\n",
    "columns_to_rename = {'Unnamed: 0': 'Index', 'start_date': 'Time', 'value': 'Electricity'}\n",
    "data_RTE = data_RTE.rename(columns=columns_to_rename)"
   ]
  },
  {
   "cell_type": "markdown",
   "metadata": {},
   "source": [
    "On enlève les éléments de la date inutile afin d'harmoniser"
   ]
  },
  {
   "cell_type": "code",
   "execution_count": 30,
   "metadata": {},
   "outputs": [],
   "source": [
    "caracteres = [\"+01:00\",\" \"]\n",
    "    \n",
    "for string in caracteres:\n",
    "    data_RTE[\"Time\"] = data_RTE[\"Time\"].apply(lambda x: x.replace(string, ''))\n",
    "\n",
    "data_RTE[\"Time\"] = data_RTE[\"Time\"].str[:-3]"
   ]
  },
  {
   "cell_type": "code",
   "execution_count": 31,
   "metadata": {},
   "outputs": [
    {
     "data": {
      "text/html": [
       "<div>\n",
       "<style scoped>\n",
       "    .dataframe tbody tr th:only-of-type {\n",
       "        vertical-align: middle;\n",
       "    }\n",
       "\n",
       "    .dataframe tbody tr th {\n",
       "        vertical-align: top;\n",
       "    }\n",
       "\n",
       "    .dataframe thead th {\n",
       "        text-align: right;\n",
       "    }\n",
       "</style>\n",
       "<table border=\"1\" class=\"dataframe\">\n",
       "  <thead>\n",
       "    <tr style=\"text-align: right;\">\n",
       "      <th></th>\n",
       "      <th>Index</th>\n",
       "      <th>Time</th>\n",
       "      <th>Electricity</th>\n",
       "    </tr>\n",
       "  </thead>\n",
       "  <tbody>\n",
       "    <tr>\n",
       "      <th>0</th>\n",
       "      <td>0</td>\n",
       "      <td>2021-01-0100:00</td>\n",
       "      <td>1082</td>\n",
       "    </tr>\n",
       "    <tr>\n",
       "      <th>1</th>\n",
       "      <td>1</td>\n",
       "      <td>2021-01-0101:00</td>\n",
       "      <td>1075</td>\n",
       "    </tr>\n",
       "    <tr>\n",
       "      <th>2</th>\n",
       "      <td>2</td>\n",
       "      <td>2021-01-0102:00</td>\n",
       "      <td>1086</td>\n",
       "    </tr>\n",
       "    <tr>\n",
       "      <th>3</th>\n",
       "      <td>3</td>\n",
       "      <td>2021-01-0103:00</td>\n",
       "      <td>1149</td>\n",
       "    </tr>\n",
       "    <tr>\n",
       "      <th>4</th>\n",
       "      <td>4</td>\n",
       "      <td>2021-01-0104:00</td>\n",
       "      <td>1170</td>\n",
       "    </tr>\n",
       "  </tbody>\n",
       "</table>\n",
       "</div>"
      ],
      "text/plain": [
       "   Index             Time  Electricity\n",
       "0      0  2021-01-0100:00         1082\n",
       "1      1  2021-01-0101:00         1075\n",
       "2      2  2021-01-0102:00         1086\n",
       "3      3  2021-01-0103:00         1149\n",
       "4      4  2021-01-0104:00         1170"
      ]
     },
     "execution_count": 31,
     "metadata": {},
     "output_type": "execute_result"
    }
   ],
   "source": [
    "data_RTE.head()"
   ]
  },
  {
   "cell_type": "markdown",
   "metadata": {},
   "source": [
    "Les dates sont bien au format harmonisé voulu."
   ]
  },
  {
   "cell_type": "markdown",
   "metadata": {},
   "source": [
    "#### **c) Merge des deux database**"
   ]
  },
  {
   "cell_type": "code",
   "execution_count": 122,
   "metadata": {},
   "outputs": [],
   "source": [
    "data = data_RTE.merge(vent_moyen, on='Time')\n",
    "data[\"Windspeed_cubed\"] = data[\"Windspeed\"].pow(3)"
   ]
  },
  {
   "cell_type": "code",
   "execution_count": 125,
   "metadata": {
    "collapsed": true,
    "jupyter": {
     "outputs_hidden": true
    }
   },
   "outputs": [
    {
     "data": {
      "text/html": [
       "<div>\n",
       "<style scoped>\n",
       "    .dataframe tbody tr th:only-of-type {\n",
       "        vertical-align: middle;\n",
       "    }\n",
       "\n",
       "    .dataframe tbody tr th {\n",
       "        vertical-align: top;\n",
       "    }\n",
       "\n",
       "    .dataframe thead th {\n",
       "        text-align: right;\n",
       "    }\n",
       "</style>\n",
       "<table border=\"1\" class=\"dataframe\">\n",
       "  <thead>\n",
       "    <tr style=\"text-align: right;\">\n",
       "      <th></th>\n",
       "      <th>Index</th>\n",
       "      <th>Time</th>\n",
       "      <th>Electricity</th>\n",
       "      <th>Windspeed</th>\n",
       "      <th>Windspeed_cubed</th>\n",
       "    </tr>\n",
       "  </thead>\n",
       "  <tbody>\n",
       "    <tr>\n",
       "      <th>0</th>\n",
       "      <td>0</td>\n",
       "      <td>2021-01-0100:00</td>\n",
       "      <td>1082</td>\n",
       "      <td>1.806471</td>\n",
       "      <td>5.895126</td>\n",
       "    </tr>\n",
       "    <tr>\n",
       "      <th>1</th>\n",
       "      <td>1</td>\n",
       "      <td>2021-01-0101:00</td>\n",
       "      <td>1075</td>\n",
       "      <td>1.877474</td>\n",
       "      <td>6.617919</td>\n",
       "    </tr>\n",
       "    <tr>\n",
       "      <th>2</th>\n",
       "      <td>2</td>\n",
       "      <td>2021-01-0102:00</td>\n",
       "      <td>1086</td>\n",
       "      <td>1.918073</td>\n",
       "      <td>7.056597</td>\n",
       "    </tr>\n",
       "    <tr>\n",
       "      <th>3</th>\n",
       "      <td>3</td>\n",
       "      <td>2021-01-0103:00</td>\n",
       "      <td>1149</td>\n",
       "      <td>1.907399</td>\n",
       "      <td>6.939439</td>\n",
       "    </tr>\n",
       "    <tr>\n",
       "      <th>4</th>\n",
       "      <td>4</td>\n",
       "      <td>2021-01-0104:00</td>\n",
       "      <td>1170</td>\n",
       "      <td>1.932054</td>\n",
       "      <td>7.212031</td>\n",
       "    </tr>\n",
       "    <tr>\n",
       "      <th>5</th>\n",
       "      <td>5</td>\n",
       "      <td>2021-01-0105:00</td>\n",
       "      <td>1190</td>\n",
       "      <td>1.947063</td>\n",
       "      <td>7.381419</td>\n",
       "    </tr>\n",
       "    <tr>\n",
       "      <th>6</th>\n",
       "      <td>6</td>\n",
       "      <td>2021-01-0106:00</td>\n",
       "      <td>1261</td>\n",
       "      <td>1.904035</td>\n",
       "      <td>6.902793</td>\n",
       "    </tr>\n",
       "    <tr>\n",
       "      <th>7</th>\n",
       "      <td>7</td>\n",
       "      <td>2021-01-0107:00</td>\n",
       "      <td>1275</td>\n",
       "      <td>1.912134</td>\n",
       "      <td>6.991250</td>\n",
       "    </tr>\n",
       "    <tr>\n",
       "      <th>8</th>\n",
       "      <td>8</td>\n",
       "      <td>2021-01-0108:00</td>\n",
       "      <td>1323</td>\n",
       "      <td>1.889768</td>\n",
       "      <td>6.748778</td>\n",
       "    </tr>\n",
       "    <tr>\n",
       "      <th>9</th>\n",
       "      <td>9</td>\n",
       "      <td>2021-01-0109:00</td>\n",
       "      <td>1294</td>\n",
       "      <td>2.056678</td>\n",
       "      <td>8.699591</td>\n",
       "    </tr>\n",
       "    <tr>\n",
       "      <th>10</th>\n",
       "      <td>10</td>\n",
       "      <td>2021-01-0110:00</td>\n",
       "      <td>1237</td>\n",
       "      <td>2.034038</td>\n",
       "      <td>8.415443</td>\n",
       "    </tr>\n",
       "    <tr>\n",
       "      <th>11</th>\n",
       "      <td>11</td>\n",
       "      <td>2021-01-0111:00</td>\n",
       "      <td>1156</td>\n",
       "      <td>2.258334</td>\n",
       "      <td>11.517663</td>\n",
       "    </tr>\n",
       "    <tr>\n",
       "      <th>12</th>\n",
       "      <td>12</td>\n",
       "      <td>2021-01-0112:00</td>\n",
       "      <td>1054</td>\n",
       "      <td>2.407417</td>\n",
       "      <td>13.952557</td>\n",
       "    </tr>\n",
       "    <tr>\n",
       "      <th>13</th>\n",
       "      <td>13</td>\n",
       "      <td>2021-01-0113:00</td>\n",
       "      <td>1036</td>\n",
       "      <td>2.526058</td>\n",
       "      <td>16.118695</td>\n",
       "    </tr>\n",
       "    <tr>\n",
       "      <th>14</th>\n",
       "      <td>14</td>\n",
       "      <td>2021-01-0114:00</td>\n",
       "      <td>1136</td>\n",
       "      <td>2.563188</td>\n",
       "      <td>16.839969</td>\n",
       "    </tr>\n",
       "    <tr>\n",
       "      <th>15</th>\n",
       "      <td>15</td>\n",
       "      <td>2021-01-0115:00</td>\n",
       "      <td>1226</td>\n",
       "      <td>2.387476</td>\n",
       "      <td>13.608714</td>\n",
       "    </tr>\n",
       "    <tr>\n",
       "      <th>16</th>\n",
       "      <td>16</td>\n",
       "      <td>2021-01-0116:00</td>\n",
       "      <td>1299</td>\n",
       "      <td>2.156184</td>\n",
       "      <td>10.024385</td>\n",
       "    </tr>\n",
       "    <tr>\n",
       "      <th>17</th>\n",
       "      <td>17</td>\n",
       "      <td>2021-01-0117:00</td>\n",
       "      <td>1434</td>\n",
       "      <td>2.166399</td>\n",
       "      <td>10.167525</td>\n",
       "    </tr>\n",
       "    <tr>\n",
       "      <th>18</th>\n",
       "      <td>18</td>\n",
       "      <td>2021-01-0118:00</td>\n",
       "      <td>1608</td>\n",
       "      <td>2.189600</td>\n",
       "      <td>10.497699</td>\n",
       "    </tr>\n",
       "    <tr>\n",
       "      <th>19</th>\n",
       "      <td>19</td>\n",
       "      <td>2021-01-0119:00</td>\n",
       "      <td>1645</td>\n",
       "      <td>2.168879</td>\n",
       "      <td>10.202483</td>\n",
       "    </tr>\n",
       "    <tr>\n",
       "      <th>20</th>\n",
       "      <td>20</td>\n",
       "      <td>2021-01-0120:00</td>\n",
       "      <td>1632</td>\n",
       "      <td>2.154758</td>\n",
       "      <td>10.004509</td>\n",
       "    </tr>\n",
       "    <tr>\n",
       "      <th>21</th>\n",
       "      <td>21</td>\n",
       "      <td>2021-01-0121:00</td>\n",
       "      <td>1570</td>\n",
       "      <td>2.099576</td>\n",
       "      <td>9.255396</td>\n",
       "    </tr>\n",
       "    <tr>\n",
       "      <th>22</th>\n",
       "      <td>22</td>\n",
       "      <td>2021-01-0122:00</td>\n",
       "      <td>1502</td>\n",
       "      <td>1.826014</td>\n",
       "      <td>6.088528</td>\n",
       "    </tr>\n",
       "    <tr>\n",
       "      <th>23</th>\n",
       "      <td>23</td>\n",
       "      <td>2021-01-0123:00</td>\n",
       "      <td>1486</td>\n",
       "      <td>1.877228</td>\n",
       "      <td>6.615324</td>\n",
       "    </tr>\n",
       "  </tbody>\n",
       "</table>\n",
       "</div>"
      ],
      "text/plain": [
       "    Index             Time  Electricity  Windspeed  Windspeed_cubed\n",
       "0       0  2021-01-0100:00         1082   1.806471         5.895126\n",
       "1       1  2021-01-0101:00         1075   1.877474         6.617919\n",
       "2       2  2021-01-0102:00         1086   1.918073         7.056597\n",
       "3       3  2021-01-0103:00         1149   1.907399         6.939439\n",
       "4       4  2021-01-0104:00         1170   1.932054         7.212031\n",
       "5       5  2021-01-0105:00         1190   1.947063         7.381419\n",
       "6       6  2021-01-0106:00         1261   1.904035         6.902793\n",
       "7       7  2021-01-0107:00         1275   1.912134         6.991250\n",
       "8       8  2021-01-0108:00         1323   1.889768         6.748778\n",
       "9       9  2021-01-0109:00         1294   2.056678         8.699591\n",
       "10     10  2021-01-0110:00         1237   2.034038         8.415443\n",
       "11     11  2021-01-0111:00         1156   2.258334        11.517663\n",
       "12     12  2021-01-0112:00         1054   2.407417        13.952557\n",
       "13     13  2021-01-0113:00         1036   2.526058        16.118695\n",
       "14     14  2021-01-0114:00         1136   2.563188        16.839969\n",
       "15     15  2021-01-0115:00         1226   2.387476        13.608714\n",
       "16     16  2021-01-0116:00         1299   2.156184        10.024385\n",
       "17     17  2021-01-0117:00         1434   2.166399        10.167525\n",
       "18     18  2021-01-0118:00         1608   2.189600        10.497699\n",
       "19     19  2021-01-0119:00         1645   2.168879        10.202483\n",
       "20     20  2021-01-0120:00         1632   2.154758        10.004509\n",
       "21     21  2021-01-0121:00         1570   2.099576         9.255396\n",
       "22     22  2021-01-0122:00         1502   1.826014         6.088528\n",
       "23     23  2021-01-0123:00         1486   1.877228         6.615324"
      ]
     },
     "execution_count": 125,
     "metadata": {},
     "output_type": "execute_result"
    }
   ],
   "source": [
    "data"
   ]
  },
  {
   "cell_type": "markdown",
   "metadata": {},
   "source": [
    "### **2) Les régressions**\n",
    "#### **Régression linéaire**\n",
    "\n",
    "Dans un premier temps, on va regresser l'électricité produite sur le vent au cube afin de retrouver le coefficient $1/2 \\rho S$ où $S = \\pi/4 d^2$ est la surface de brassage de l'éolienne avec $d$ le diamètre du rotor. \n",
    "\n",
    "Ensuite on régressera le log de l'électricité produite sur le log du vent afin de retrouver le cube.\n",
    "\n",
    "#### **a) Première régression sans log**"
   ]
  },
  {
   "cell_type": "code",
   "execution_count": 126,
   "metadata": {},
   "outputs": [
    {
     "name": "stdout",
     "output_type": "stream",
     "text": [
      "                            OLS Regression Results                            \n",
      "==============================================================================\n",
      "Dep. Variable:            Electricity   R-squared:                       0.023\n",
      "Model:                            OLS   Adj. R-squared:                 -0.022\n",
      "Method:                 Least Squares   F-statistic:                    0.5159\n",
      "Date:                Mon, 12 Dec 2022   Prob (F-statistic):              0.480\n",
      "Time:                        15:46:41   Log-Likelihood:                -159.80\n",
      "No. Observations:                  24   AIC:                             323.6\n",
      "Df Residuals:                      22   BIC:                             325.9\n",
      "Df Model:                           1                                         \n",
      "Covariance Type:            nonrobust                                         \n",
      "===================================================================================\n",
      "                      coef    std err          t      P>|t|      [0.025      0.975]\n",
      "-----------------------------------------------------------------------------------\n",
      "Intercept        1376.2587    128.515     10.709      0.000    1109.735    1642.783\n",
      "Windspeed_cubed    -9.4041     13.093     -0.718      0.480     -36.558      17.749\n",
      "==============================================================================\n",
      "Omnibus:                        2.774   Durbin-Watson:                   0.125\n",
      "Prob(Omnibus):                  0.250   Jarque-Bera (JB):                2.241\n",
      "Skew:                           0.630   Prob(JB):                        0.326\n",
      "Kurtosis:                       2.192   Cond. No.                         31.7\n",
      "==============================================================================\n",
      "\n",
      "Warnings:\n",
      "[1] Standard Errors assume that the covariance matrix of the errors is correctly specified.\n"
     ]
    }
   ],
   "source": [
    "import statsmodels.formula.api as smf\n",
    "\n",
    "def regression_results(x):\n",
    "    model = smf.ols(\"Electricity ~ Windspeed_cubed\", data=x).fit()\n",
    "    predictions = model.predict(x)\n",
    "    print(model.summary())\n",
    "    \n",
    "regression_results(data)  "
   ]
  },
  {
   "cell_type": "markdown",
   "metadata": {},
   "source": [
    "#### **Graphiques**"
   ]
  },
  {
   "cell_type": "code",
   "execution_count": 131,
   "metadata": {},
   "outputs": [
    {
     "data": {
      "image/png": "[encoded data removed]",
      "text/plain": [
       "<Figure size 432x288 with 1 Axes>"
      ]
     },
     "metadata": {
      "needs_background": "light"
     },
     "output_type": "display_data"
    }
   ],
   "source": [
    "import seaborn as sns\n",
    "\n",
    "def plot_linear_regression(x):\n",
    "    plot = sns.regplot(x=\"Windspeed_cubed\", y=\"Electricity\", data=x)\n",
    "    return plot\n",
    "\n",
    "plot = plot_linear_regression(data)\n",
    "plt.show()"
   ]
  },
  {
   "cell_type": "markdown",
   "metadata": {},
   "source": [
    "#### **b) Deuxième régression: avec log**\n"
   ]
  },
  {
   "cell_type": "code",
   "execution_count": null,
   "metadata": {},
   "outputs": [],
   "source": []
  }
 ],
 "metadata": {
  "kernelspec": {
   "display_name": "Python 3",
   "language": "python",
   "name": "python3"
  },
  "language_info": {
   "codemirror_mode": {
    "name": "ipython",
    "version": 3
   },
   "file_extension": ".py",
   "mimetype": "text/x-python",
   "name": "python",
   "nbconvert_exporter": "python",
   "pygments_lexer": "ipython3",
   "version": "3.7.6"
  }
 },
 "nbformat": 4,
 "nbformat_minor": 4
}
