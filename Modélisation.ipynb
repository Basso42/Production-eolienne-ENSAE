{
 "cells": [
  {
   "cell_type": "markdown",
   "metadata": {},
   "source": [
    "# **Modélisation statistique**\n",
    "Nous allons mener des régressions linéaires de la production électrique éolienne (données API RTE) sur les données météorologiques de vents (données API ...)\n",
    "\n",
    "Dans un premier temps, nous allons créer un data frame qui contiendra la moyenne nationale de la production électrique éolienne ainsi que la moyenne des vents nationaux, heure par heure pour l'année 2021.\n",
    "Ensuite, nous affinerons l'analyse en faisant des régressions par région/année.\n",
    "\n",
    "### **1) Régression au niveau national**\n",
    "#### **Calcul des moyennes**"
   ]
  },
  {
   "cell_type": "code",
   "execution_count": null,
   "metadata": {},
   "outputs": [],
   "source": [
    "import pandas as pd\n",
    "\n",
    "donnees_vent = pd.read_csv(\"donnee_vent.csv\")\n",
    "\n",
    "hours = df.groupby(df.index.hour)\n",
    "\n",
    "mean_nat = hours.mean()"
   ]
  },
  {
   "cell_type": "markdown",
   "metadata": {},
   "source": [
    "#### **Régression linéaire**"
   ]
  },
  {
   "cell_type": "code",
   "execution_count": null,
   "metadata": {},
   "outputs": [],
   "source": [
    "import statsmodels.formula.api as smf\n",
    "\n",
    "def regression_results(data):\n",
    "    model = smf.ols(\"electricity ~ wind\", data=data).fit()\n",
    "    predictions = model.predict(data)\n",
    "    print(model.summary())\n",
    "    \n",
    "regression_results(mean_nat)  "
   ]
  },
  {
   "cell_type": "markdown",
   "metadata": {},
   "source": [
    "#### **Graphiques**"
   ]
  },
  {
   "cell_type": "code",
   "execution_count": null,
   "metadata": {},
   "outputs": [],
   "source": [
    "def plot_linear_regression(data):\n",
    "    plot = sns.regplot(x=\"wind\", y=\"electricity\", data=data)\n",
    "    sns.lmplot(x=\"wind\", y=\"electricity\", data=data)\n",
    "    return plot\n",
    "\n",
    "plot = plot_linear_regression(mean_nat)\n",
    "plt.show()"
   ]
  }
 ],
 "metadata": {
  "kernelspec": {
   "display_name": "Python 3",
   "language": "python",
   "name": "python3"
  },
  "language_info": {
   "name": ""
  }
 },
 "nbformat": 4,
 "nbformat_minor": 4
}
