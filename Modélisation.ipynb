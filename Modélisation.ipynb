{
 "cells": [
  {
   "cell_type": "markdown",
   "metadata": {},
   "source": [
    "# **Modélisation statistique**\n",
    "Nous allons mener des régressions linéaires de la production électrique éolienne (données API RTE) sur les données météorologiques de vents (données API ...)\n",
    "\n",
    "Dans un premier temps, nous allons créer un data frame qui contiendra la moyenne nationale de la production électrique éolienne ainsi que la moyenne des vents nationaux, heure par heure pour l'année 2021.\n",
    "Ensuite, nous affinerons l'analyse en faisant des régressions par région/année.\n",
    "\n",
    "### **1) Récupération des données**\n",
    "#### **a) Données météorologiques**"
   ]
  },
  {
   "cell_type": "code",
   "execution_count": 170,
   "metadata": {},
   "outputs": [],
   "source": [
    "import pandas as pd\n",
    "\n",
    "donnees_vent = pd.read_csv(r'C:\\Users\\peign\\Desktop\\ProjetPython\\donnees_vent.csv', sep=\",\", names=['Index', 'Time', 'Windspeed'])"
   ]
  },
  {
   "cell_type": "code",
   "execution_count": 173,
   "metadata": {},
   "outputs": [
    {
     "data": {
      "text/html": [
       "<div>\n",
       "<style scoped>\n",
       "    .dataframe tbody tr th:only-of-type {\n",
       "        vertical-align: middle;\n",
       "    }\n",
       "\n",
       "    .dataframe tbody tr th {\n",
       "        vertical-align: top;\n",
       "    }\n",
       "\n",
       "    .dataframe thead th {\n",
       "        text-align: right;\n",
       "    }\n",
       "</style>\n",
       "<table border=\"1\" class=\"dataframe\">\n",
       "  <thead>\n",
       "    <tr style=\"text-align: right;\">\n",
       "      <th></th>\n",
       "      <th>Index</th>\n",
       "      <th>Time</th>\n",
       "      <th>Windspeed</th>\n",
       "    </tr>\n",
       "  </thead>\n",
       "  <tbody>\n",
       "    <tr>\n",
       "      <th>0</th>\n",
       "      <td>0</td>\n",
       "      <td>[2011-04-2300:00:00,2011-04-2301:00:00,2011-04...</td>\n",
       "      <td>[2.34, 2.33, 1.8, 1.84, 1.7, 2.01, 1.35, 1.08,...</td>\n",
       "    </tr>\n",
       "    <tr>\n",
       "      <th>1</th>\n",
       "      <td>1</td>\n",
       "      <td>[2014-04-0100:00:00,2014-04-0101:00:00,2014-04...</td>\n",
       "      <td>[0.86, 1.2, 1.66, 1.21, 1.51, 2.02, 2.51, 2.81...</td>\n",
       "    </tr>\n",
       "    <tr>\n",
       "      <th>2</th>\n",
       "      <td>2</td>\n",
       "      <td>[2014-04-0100:00:00,2014-04-0101:00:00,2014-04...</td>\n",
       "      <td>[0.86, 1.2, 1.66, 1.21, 1.51, 2.02, 2.51, 2.81...</td>\n",
       "    </tr>\n",
       "    <tr>\n",
       "      <th>3</th>\n",
       "      <td>3</td>\n",
       "      <td>[2014-04-0100:00:00,2014-04-0101:00:00,2014-04...</td>\n",
       "      <td>[0.86, 1.2, 1.66, 1.21, 1.51, 2.02, 2.51, 2.81...</td>\n",
       "    </tr>\n",
       "    <tr>\n",
       "      <th>4</th>\n",
       "      <td>4</td>\n",
       "      <td>[2021-11-0400:00:00,2021-11-0401:00:00,2021-11...</td>\n",
       "      <td>[1.61, 1.71, 1.53, 1.86, 1.82, 1.57, 1.61, 1.7...</td>\n",
       "    </tr>\n",
       "  </tbody>\n",
       "</table>\n",
       "</div>"
      ],
      "text/plain": [
       "   Index                                               Time  \\\n",
       "0      0  [2011-04-2300:00:00,2011-04-2301:00:00,2011-04...   \n",
       "1      1  [2014-04-0100:00:00,2014-04-0101:00:00,2014-04...   \n",
       "2      2  [2014-04-0100:00:00,2014-04-0101:00:00,2014-04...   \n",
       "3      3  [2014-04-0100:00:00,2014-04-0101:00:00,2014-04...   \n",
       "4      4  [2021-11-0400:00:00,2021-11-0401:00:00,2021-11...   \n",
       "\n",
       "                                           Windspeed  \n",
       "0  [2.34, 2.33, 1.8, 1.84, 1.7, 2.01, 1.35, 1.08,...  \n",
       "1  [0.86, 1.2, 1.66, 1.21, 1.51, 2.02, 2.51, 2.81...  \n",
       "2  [0.86, 1.2, 1.66, 1.21, 1.51, 2.02, 2.51, 2.81...  \n",
       "3  [0.86, 1.2, 1.66, 1.21, 1.51, 2.02, 2.51, 2.81...  \n",
       "4  [1.61, 1.71, 1.53, 1.86, 1.82, 1.57, 1.61, 1.7...  "
      ]
     },
     "execution_count": 173,
     "metadata": {},
     "output_type": "execute_result"
    }
   ],
   "source": [
    "donnees_vent.head()"
   ]
  },
  {
   "cell_type": "code",
   "execution_count": 176,
   "metadata": {},
   "outputs": [
    {
     "data": {
      "text/plain": [
       "'2018-12-2000:00:00,2018-12-2001:00:00,2018-12-2002:00:00,2018-12-2003:00:00,2018-12-2004:00:00,2018-12-2005:00:00,2018-12-2006:00:00,2018-12-2007:00:00,2018-12-2008:00:00,2018-12-2009:00:00,2022-12-0414:00:00,2022-12-0415:00:00,2022-12-0416:00:00,2022-12-0417:00:00,2022-12-0418:00:00,2022-12-0419:00:00,2022-12-0420:00:00,2022-12-0421:00:00,2022-12-0422:00:00,2022-12-0423:00:00'"
      ]
     },
     "execution_count": 176,
     "metadata": {},
     "output_type": "execute_result"
    }
   ],
   "source": [
    "donnees_vent[\"Time\"][120]"
   ]
  },
  {
   "cell_type": "code",
   "execution_count": 175,
   "metadata": {},
   "outputs": [],
   "source": [
    "caracteres = [\"\\n\",\"DatetimeIndex(\", \"               \",\" \",\"...\",\"'\",\"[ns]\"]\n",
    "    \n",
    "for string in caracteres:\n",
    "    donnees_vent[\"Time\"] = donnees_vent[\"Time\"].apply(lambda x: x.replace(string, ''))\n",
    "    \n",
    "donnees_vent[\"Time\"] = donnees_vent[\"Time\"].str.extract(r\"\\[(.+?)\\]\")"
   ]
  },
  {
   "cell_type": "code",
   "execution_count": 165,
   "metadata": {},
   "outputs": [],
   "source": [
    "donnees_vent[\"Time\"] = donnees_vent[\"Time\"].tolist()"
   ]
  },
  {
   "cell_type": "markdown",
   "metadata": {},
   "source": [
    "#### **b) Données RTE**"
   ]
  },
  {
   "cell_type": "markdown",
   "metadata": {},
   "source": [
    "### **2) Régression au niveau national**\n",
    "#### **Calcul des moyennes**"
   ]
  },
  {
   "cell_type": "code",
   "execution_count": null,
   "metadata": {},
   "outputs": [],
   "source": [
    "hours = df.groupby(df.index.hour)\n",
    "\n",
    "mean_nat = hours.mean()"
   ]
  },
  {
   "cell_type": "markdown",
   "metadata": {},
   "source": [
    "#### **Régression linéaire**"
   ]
  },
  {
   "cell_type": "code",
   "execution_count": null,
   "metadata": {},
   "outputs": [],
   "source": [
    "import statsmodels.formula.api as smf\n",
    "\n",
    "def regression_results(data):\n",
    "    model = smf.ols(\"electricity ~ wind\", data=data).fit()\n",
    "    predictions = model.predict(data)\n",
    "    print(model.summary())\n",
    "    \n",
    "regression_results(mean_nat)  "
   ]
  },
  {
   "cell_type": "markdown",
   "metadata": {},
   "source": [
    "#### **Graphiques**"
   ]
  },
  {
   "cell_type": "code",
   "execution_count": null,
   "metadata": {},
   "outputs": [],
   "source": [
    "def plot_linear_regression(data):\n",
    "    plot = sns.regplot(x=\"wind\", y=\"electricity\", data=data)\n",
    "    sns.lmplot(x=\"wind\", y=\"electricity\", data=data)\n",
    "    return plot\n",
    "\n",
    "plot = plot_linear_regression(mean_nat)\n",
    "plt.show()"
   ]
  }
 ],
 "metadata": {
  "kernelspec": {
   "display_name": "Python 3",
   "language": "python",
   "name": "python3"
  },
  "language_info": {
   "codemirror_mode": {
    "name": "ipython",
    "version": 3
   },
   "file_extension": ".py",
   "mimetype": "text/x-python",
   "name": "python",
   "nbconvert_exporter": "python",
   "pygments_lexer": "ipython3",
   "version": "3.7.6"
  }
 },
 "nbformat": 4,
 "nbformat_minor": 4
}
