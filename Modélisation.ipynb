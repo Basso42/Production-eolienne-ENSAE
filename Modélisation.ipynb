{
 "cells": [
  {
   "cell_type": "markdown",
   "metadata": {},
   "source": [
    "# **Modélisation statistique**\n",
    "Nous allons mener des régressions linéaires de la production électrique éolienne (données API RTE) sur les données météorologiques de vents (données API ...)\n",
    "\n",
    "Dans un premier temps, nous allons créer un data frame qui contiendra la moyenne nationale de la production électrique éolienne ainsi que la moyenne des vents nationaux, heure par heure pour l'année 2021.\n",
    "Ensuite, nous affinerons l'analyse en faisant des régressions par région/année.\n",
    "\n",
    "### **1) Récupération des données**\n",
    "\n",
    "Dans un premier temps, nous cherchons à mettre les dates des données météorologique et des données RTE dans le même format. Le format cherché est, par exemple pour le 5 mai 2020 à 12h:\n",
    "\n",
    "**2020-05-05:12:00**\n",
    "\n",
    "#### **a) Données météorologiques**"
   ]
  },
  {
   "cell_type": "code",
   "execution_count": 1,
   "metadata": {},
   "outputs": [],
   "source": [
    "import pandas as pd"
   ]
  },
  {
   "cell_type": "code",
   "execution_count": 2,
   "metadata": {},
   "outputs": [],
   "source": [
    "donnees_vent = pd.read_csv(r'C:\\Users\\peign\\Desktop\\ProjetPython\\donnees_vent.csv', sep=\",\", names=['Index', 'Time', 'Windspeed'])"
   ]
  },
  {
   "cell_type": "code",
   "execution_count": 3,
   "metadata": {},
   "outputs": [
    {
     "data": {
      "text/html": [
       "<div>\n",
       "<style scoped>\n",
       "    .dataframe tbody tr th:only-of-type {\n",
       "        vertical-align: middle;\n",
       "    }\n",
       "\n",
       "    .dataframe tbody tr th {\n",
       "        vertical-align: top;\n",
       "    }\n",
       "\n",
       "    .dataframe thead th {\n",
       "        text-align: right;\n",
       "    }\n",
       "</style>\n",
       "<table border=\"1\" class=\"dataframe\">\n",
       "  <thead>\n",
       "    <tr style=\"text-align: right;\">\n",
       "      <th></th>\n",
       "      <th>Index</th>\n",
       "      <th>Time</th>\n",
       "      <th>Windspeed</th>\n",
       "    </tr>\n",
       "  </thead>\n",
       "  <tbody>\n",
       "    <tr>\n",
       "      <th>0</th>\n",
       "      <td>0</td>\n",
       "      <td>DatetimeIndex(['2011-04-23 00:00:00', '2011-04...</td>\n",
       "      <td>[2.34, 2.33, 1.8, 1.84, 1.7, 2.01, 1.35, 1.08,...</td>\n",
       "    </tr>\n",
       "    <tr>\n",
       "      <th>1</th>\n",
       "      <td>1</td>\n",
       "      <td>DatetimeIndex(['2014-04-01 00:00:00', '2014-04...</td>\n",
       "      <td>[0.86, 1.2, 1.66, 1.21, 1.51, 2.02, 2.51, 2.81...</td>\n",
       "    </tr>\n",
       "    <tr>\n",
       "      <th>2</th>\n",
       "      <td>2</td>\n",
       "      <td>DatetimeIndex(['2014-04-01 00:00:00', '2014-04...</td>\n",
       "      <td>[0.86, 1.2, 1.66, 1.21, 1.51, 2.02, 2.51, 2.81...</td>\n",
       "    </tr>\n",
       "    <tr>\n",
       "      <th>3</th>\n",
       "      <td>3</td>\n",
       "      <td>DatetimeIndex(['2014-04-01 00:00:00', '2014-04...</td>\n",
       "      <td>[0.86, 1.2, 1.66, 1.21, 1.51, 2.02, 2.51, 2.81...</td>\n",
       "    </tr>\n",
       "    <tr>\n",
       "      <th>4</th>\n",
       "      <td>4</td>\n",
       "      <td>DatetimeIndex(['2021-11-04 00:00:00', '2021-11...</td>\n",
       "      <td>[1.61, 1.71, 1.53, 1.86, 1.82, 1.57, 1.61, 1.7...</td>\n",
       "    </tr>\n",
       "  </tbody>\n",
       "</table>\n",
       "</div>"
      ],
      "text/plain": [
       "   Index                                               Time  \\\n",
       "0      0  DatetimeIndex(['2011-04-23 00:00:00', '2011-04...   \n",
       "1      1  DatetimeIndex(['2014-04-01 00:00:00', '2014-04...   \n",
       "2      2  DatetimeIndex(['2014-04-01 00:00:00', '2014-04...   \n",
       "3      3  DatetimeIndex(['2014-04-01 00:00:00', '2014-04...   \n",
       "4      4  DatetimeIndex(['2021-11-04 00:00:00', '2021-11...   \n",
       "\n",
       "                                           Windspeed  \n",
       "0  [2.34, 2.33, 1.8, 1.84, 1.7, 2.01, 1.35, 1.08,...  \n",
       "1  [0.86, 1.2, 1.66, 1.21, 1.51, 2.02, 2.51, 2.81...  \n",
       "2  [0.86, 1.2, 1.66, 1.21, 1.51, 2.02, 2.51, 2.81...  \n",
       "3  [0.86, 1.2, 1.66, 1.21, 1.51, 2.02, 2.51, 2.81...  \n",
       "4  [1.61, 1.71, 1.53, 1.86, 1.82, 1.57, 1.61, 1.7...  "
      ]
     },
     "execution_count": 3,
     "metadata": {},
     "output_type": "execute_result"
    }
   ],
   "source": [
    "donnees_vent.head()"
   ]
  },
  {
   "cell_type": "markdown",
   "metadata": {},
   "source": [
    "Le format des données est le suivant:\n",
    "\n",
    "-L'index représente le numéro des éoliennes, numérotées de 0 à XXXX.\n",
    "\n",
    "-La variable \"Time\" contient la liste de toutes les dates auxquelles on observe la vitesse du vent à la position de l'éolienne.\n",
    "\n",
    "-La variable \"Windspeed\" contient la liste de la vitesse des vents.\n",
    "\n",
    "Dans un premier temps, on va chercher à \"nettoyer\" la variable \"Time\" afin de créer une liste de dates harmonisées."
   ]
  },
  {
   "cell_type": "code",
   "execution_count": 4,
   "metadata": {},
   "outputs": [
    {
     "data": {
      "text/plain": [
       "\"DatetimeIndex(['2011-04-23 00:00:00', '2011-04-23 01:00:00',\\n               '2011-04-23 02:00:00', '2011-04-23 03:00:00',\\n               '2011-04-23 04:00:00', '2011-04-23 05:00:00',\\n               '2011-04-23 06:00:00', '2011-04-23 07:00:00',\\n               '2011-04-23 08:00:00', '2011-04-23 09:00:00',\\n               ...\\n               '2022-12-04 14:00:00', '2022-12-04 15:00:00',\\n               '2022-12-04 16:00:00', '2022-12-04 17:00:00',\\n               '2022-12-04 18:00:00', '2022-12-04 19:00:00',\\n               '2022-12-04 20:00:00', '2022-12-04 21:00:00',\\n               '2022-12-04 22:00:00', '2022-12-04 23:00:00'],\\n              dtype='datetime64[ns]', length=101856, freq=None)\""
      ]
     },
     "execution_count": 4,
     "metadata": {},
     "output_type": "execute_result"
    }
   ],
   "source": [
    "donnees_vent[\"Time\"][0]"
   ]
  },
  {
   "cell_type": "code",
   "execution_count": 5,
   "metadata": {},
   "outputs": [],
   "source": [
    "caracteres_time = [\"\\n\",\"DatetimeIndex(\", \"               \",\" \",\"...\",\"'\",\"[ns]\"]\n",
    "    \n",
    "for string in caracteres_time:\n",
    "    donnees_vent[\"Time\"] = donnees_vent[\"Time\"].apply(lambda x: x.replace(string, ''))\n",
    "    \n",
    "donnees_vent[\"Time\"] = donnees_vent[\"Time\"].str.extract(r\"\\[(.+?)\\]\")\n",
    "donnees_vent[\"Time\"] = donnees_vent[\"Time\"].str.replace(',', ' ')"
   ]
  },
  {
   "cell_type": "code",
   "execution_count": 6,
   "metadata": {},
   "outputs": [],
   "source": [
    "caracteres_vent = [\"[\", \"]\", \" \"]\n",
    "\n",
    "for string in caracteres_vent:\n",
    "    donnees_vent[\"Windspeed\"] = donnees_vent[\"Windspeed\"].apply(lambda x: x.replace(string, ''))\n",
    "\n",
    "donnees_vent[\"Windspeed\"] = donnees_vent[\"Windspeed\"].str.replace(',', ' ')"
   ]
  },
  {
   "cell_type": "code",
   "execution_count": 7,
   "metadata": {},
   "outputs": [
    {
     "data": {
      "text/html": [
       "<div>\n",
       "<style scoped>\n",
       "    .dataframe tbody tr th:only-of-type {\n",
       "        vertical-align: middle;\n",
       "    }\n",
       "\n",
       "    .dataframe tbody tr th {\n",
       "        vertical-align: top;\n",
       "    }\n",
       "\n",
       "    .dataframe thead th {\n",
       "        text-align: right;\n",
       "    }\n",
       "</style>\n",
       "<table border=\"1\" class=\"dataframe\">\n",
       "  <thead>\n",
       "    <tr style=\"text-align: right;\">\n",
       "      <th></th>\n",
       "      <th>Index</th>\n",
       "      <th>Time</th>\n",
       "      <th>Windspeed</th>\n",
       "    </tr>\n",
       "  </thead>\n",
       "  <tbody>\n",
       "    <tr>\n",
       "      <th>0</th>\n",
       "      <td>0</td>\n",
       "      <td>2011-04-2300:00:00 2011-04-2301:00:00 2011-04-...</td>\n",
       "      <td>2.34 2.33 1.8 1.84 1.7 2.01 1.35 1.08 0.92 1.0...</td>\n",
       "    </tr>\n",
       "    <tr>\n",
       "      <th>1</th>\n",
       "      <td>1</td>\n",
       "      <td>2014-04-0100:00:00 2014-04-0101:00:00 2014-04-...</td>\n",
       "      <td>0.86 1.2 1.66 1.21 1.51 2.02 2.51 2.81 2.73 2....</td>\n",
       "    </tr>\n",
       "    <tr>\n",
       "      <th>2</th>\n",
       "      <td>2</td>\n",
       "      <td>2014-04-0100:00:00 2014-04-0101:00:00 2014-04-...</td>\n",
       "      <td>0.86 1.2 1.66 1.21 1.51 2.02 2.51 2.81 2.73 2....</td>\n",
       "    </tr>\n",
       "    <tr>\n",
       "      <th>3</th>\n",
       "      <td>3</td>\n",
       "      <td>2014-04-0100:00:00 2014-04-0101:00:00 2014-04-...</td>\n",
       "      <td>0.86 1.2 1.66 1.21 1.51 2.02 2.51 2.81 2.73 2....</td>\n",
       "    </tr>\n",
       "    <tr>\n",
       "      <th>4</th>\n",
       "      <td>4</td>\n",
       "      <td>2021-11-0400:00:00 2021-11-0401:00:00 2021-11-...</td>\n",
       "      <td>1.61 1.71 1.53 1.86 1.82 1.57 1.61 1.75 1.44 0...</td>\n",
       "    </tr>\n",
       "  </tbody>\n",
       "</table>\n",
       "</div>"
      ],
      "text/plain": [
       "   Index                                               Time  \\\n",
       "0      0  2011-04-2300:00:00 2011-04-2301:00:00 2011-04-...   \n",
       "1      1  2014-04-0100:00:00 2014-04-0101:00:00 2014-04-...   \n",
       "2      2  2014-04-0100:00:00 2014-04-0101:00:00 2014-04-...   \n",
       "3      3  2014-04-0100:00:00 2014-04-0101:00:00 2014-04-...   \n",
       "4      4  2021-11-0400:00:00 2021-11-0401:00:00 2021-11-...   \n",
       "\n",
       "                                           Windspeed  \n",
       "0  2.34 2.33 1.8 1.84 1.7 2.01 1.35 1.08 0.92 1.0...  \n",
       "1  0.86 1.2 1.66 1.21 1.51 2.02 2.51 2.81 2.73 2....  \n",
       "2  0.86 1.2 1.66 1.21 1.51 2.02 2.51 2.81 2.73 2....  \n",
       "3  0.86 1.2 1.66 1.21 1.51 2.02 2.51 2.81 2.73 2....  \n",
       "4  1.61 1.71 1.53 1.86 1.82 1.57 1.61 1.75 1.44 0...  "
      ]
     },
     "execution_count": 7,
     "metadata": {},
     "output_type": "execute_result"
    }
   ],
   "source": [
    "donnees_vent.head()"
   ]
  },
  {
   "cell_type": "markdown",
   "metadata": {},
   "source": [
    "Maintenant que les variables \"Time\" et \"Windspeed\" sont nettoyées, on va utiliser la fonction explode afin d'avoir une base de données \"classique\" pour pouvoir faire des régressions. Nous allons étendre les listes afin que chaque vent soit associé à une date précise.\n",
    "\n",
    "Premièrement, on convertit nos données considérés comme \"string\" en liste."
   ]
  },
  {
   "cell_type": "code",
   "execution_count": 8,
   "metadata": {},
   "outputs": [],
   "source": [
    "donnees_vent[\"Time\"] = donnees_vent[\"Time\"].str.split(' ')\n",
    "donnees_vent[\"Time\"] = donnees_vent[\"Time\"].tolist()"
   ]
  },
  {
   "cell_type": "code",
   "execution_count": null,
   "metadata": {},
   "outputs": [
    {
     "name": "stderr",
     "output_type": "stream",
     "text": [
      "C:\\Users\\peign\\anaconda3\\lib\\site-packages\\ipykernel_launcher.py:2: SettingWithCopyWarning: \n",
      "A value is trying to be set on a copy of a slice from a DataFrame\n",
      "\n",
      "See the caveats in the documentation: https://pandas.pydata.org/pandas-docs/stable/user_guide/indexing.html#returning-a-view-versus-a-copy\n",
      "  \n"
     ]
    }
   ],
   "source": [
    "#Ce code fait planter mon ordi\n",
    "donnees_vent[\"Windspeed\"] = donnees_vent[\"Windspeed\"].str.split(' ')\n",
    "donnees_vent[\"Windspeed\"] = donnees_vent[\"Windspeed\"].tolist()"
   ]
  },
  {
   "cell_type": "code",
   "execution_count": 9,
   "metadata": {},
   "outputs": [
    {
     "data": {
      "text/html": [
       "<div>\n",
       "<style scoped>\n",
       "    .dataframe tbody tr th:only-of-type {\n",
       "        vertical-align: middle;\n",
       "    }\n",
       "\n",
       "    .dataframe tbody tr th {\n",
       "        vertical-align: top;\n",
       "    }\n",
       "\n",
       "    .dataframe thead th {\n",
       "        text-align: right;\n",
       "    }\n",
       "</style>\n",
       "<table border=\"1\" class=\"dataframe\">\n",
       "  <thead>\n",
       "    <tr style=\"text-align: right;\">\n",
       "      <th></th>\n",
       "      <th>Index</th>\n",
       "      <th>Time</th>\n",
       "      <th>Windspeed</th>\n",
       "    </tr>\n",
       "  </thead>\n",
       "  <tbody>\n",
       "    <tr>\n",
       "      <th>0</th>\n",
       "      <td>0</td>\n",
       "      <td>[2011-04-2300:00:00, 2011-04-2301:00:00, 2011-...</td>\n",
       "      <td>2.34 2.33 1.8 1.84 1.7 2.01 1.35 1.08 0.92 1.0...</td>\n",
       "    </tr>\n",
       "    <tr>\n",
       "      <th>1</th>\n",
       "      <td>1</td>\n",
       "      <td>[2014-04-0100:00:00, 2014-04-0101:00:00, 2014-...</td>\n",
       "      <td>0.86 1.2 1.66 1.21 1.51 2.02 2.51 2.81 2.73 2....</td>\n",
       "    </tr>\n",
       "    <tr>\n",
       "      <th>2</th>\n",
       "      <td>2</td>\n",
       "      <td>[2014-04-0100:00:00, 2014-04-0101:00:00, 2014-...</td>\n",
       "      <td>0.86 1.2 1.66 1.21 1.51 2.02 2.51 2.81 2.73 2....</td>\n",
       "    </tr>\n",
       "    <tr>\n",
       "      <th>3</th>\n",
       "      <td>3</td>\n",
       "      <td>[2014-04-0100:00:00, 2014-04-0101:00:00, 2014-...</td>\n",
       "      <td>0.86 1.2 1.66 1.21 1.51 2.02 2.51 2.81 2.73 2....</td>\n",
       "    </tr>\n",
       "    <tr>\n",
       "      <th>4</th>\n",
       "      <td>4</td>\n",
       "      <td>[2021-11-0400:00:00, 2021-11-0401:00:00, 2021-...</td>\n",
       "      <td>1.61 1.71 1.53 1.86 1.82 1.57 1.61 1.75 1.44 0...</td>\n",
       "    </tr>\n",
       "  </tbody>\n",
       "</table>\n",
       "</div>"
      ],
      "text/plain": [
       "   Index                                               Time  \\\n",
       "0      0  [2011-04-2300:00:00, 2011-04-2301:00:00, 2011-...   \n",
       "1      1  [2014-04-0100:00:00, 2014-04-0101:00:00, 2014-...   \n",
       "2      2  [2014-04-0100:00:00, 2014-04-0101:00:00, 2014-...   \n",
       "3      3  [2014-04-0100:00:00, 2014-04-0101:00:00, 2014-...   \n",
       "4      4  [2021-11-0400:00:00, 2021-11-0401:00:00, 2021-...   \n",
       "\n",
       "                                           Windspeed  \n",
       "0  2.34 2.33 1.8 1.84 1.7 2.01 1.35 1.08 0.92 1.0...  \n",
       "1  0.86 1.2 1.66 1.21 1.51 2.02 2.51 2.81 2.73 2....  \n",
       "2  0.86 1.2 1.66 1.21 1.51 2.02 2.51 2.81 2.73 2....  \n",
       "3  0.86 1.2 1.66 1.21 1.51 2.02 2.51 2.81 2.73 2....  \n",
       "4  1.61 1.71 1.53 1.86 1.82 1.57 1.61 1.75 1.44 0...  "
      ]
     },
     "execution_count": 9,
     "metadata": {},
     "output_type": "execute_result"
    }
   ],
   "source": [
    "donnees_vent.head()"
   ]
  },
  {
   "cell_type": "markdown",
   "metadata": {},
   "source": [
    "#### **b) Données RTE**\n",
    "On importe les données RTE auparavant obtenu grâce à une API.\n",
    "\n",
    "**Pour l'instant:** données test de Janvier à Février 2020"
   ]
  },
  {
   "cell_type": "code",
   "execution_count": 146,
   "metadata": {},
   "outputs": [],
   "source": [
    "data_RTE = pd.read_csv('RTE_test.csv')"
   ]
  },
  {
   "cell_type": "code",
   "execution_count": 147,
   "metadata": {},
   "outputs": [
    {
     "data": {
      "text/html": [
       "<div>\n",
       "<style scoped>\n",
       "    .dataframe tbody tr th:only-of-type {\n",
       "        vertical-align: middle;\n",
       "    }\n",
       "\n",
       "    .dataframe tbody tr th {\n",
       "        vertical-align: top;\n",
       "    }\n",
       "\n",
       "    .dataframe thead th {\n",
       "        text-align: right;\n",
       "    }\n",
       "</style>\n",
       "<table border=\"1\" class=\"dataframe\">\n",
       "  <thead>\n",
       "    <tr style=\"text-align: right;\">\n",
       "      <th></th>\n",
       "      <th>Unnamed: 0</th>\n",
       "      <th>start_date</th>\n",
       "      <th>end_date</th>\n",
       "      <th>updated_date</th>\n",
       "      <th>value</th>\n",
       "    </tr>\n",
       "  </thead>\n",
       "  <tbody>\n",
       "    <tr>\n",
       "      <th>0</th>\n",
       "      <td>0</td>\n",
       "      <td>2020-01-01 00:00:00+01:00</td>\n",
       "      <td>2020-01-01 01:00:00+01:00</td>\n",
       "      <td>2020-01-01T00:37:05+01:00</td>\n",
       "      <td>3361</td>\n",
       "    </tr>\n",
       "    <tr>\n",
       "      <th>1</th>\n",
       "      <td>1</td>\n",
       "      <td>2020-01-01 01:00:00+01:00</td>\n",
       "      <td>2020-01-01 02:00:00+01:00</td>\n",
       "      <td>2020-01-01T01:37:08+01:00</td>\n",
       "      <td>2810</td>\n",
       "    </tr>\n",
       "    <tr>\n",
       "      <th>2</th>\n",
       "      <td>2</td>\n",
       "      <td>2020-01-01 02:00:00+01:00</td>\n",
       "      <td>2020-01-01 03:00:00+01:00</td>\n",
       "      <td>2020-01-01T02:37:06+01:00</td>\n",
       "      <td>2655</td>\n",
       "    </tr>\n",
       "    <tr>\n",
       "      <th>3</th>\n",
       "      <td>3</td>\n",
       "      <td>2020-01-01 03:00:00+01:00</td>\n",
       "      <td>2020-01-01 04:00:00+01:00</td>\n",
       "      <td>2020-01-01T03:37:07+01:00</td>\n",
       "      <td>2736</td>\n",
       "    </tr>\n",
       "    <tr>\n",
       "      <th>4</th>\n",
       "      <td>4</td>\n",
       "      <td>2020-01-01 04:00:00+01:00</td>\n",
       "      <td>2020-01-01 05:00:00+01:00</td>\n",
       "      <td>2020-01-01T04:37:05+01:00</td>\n",
       "      <td>2631</td>\n",
       "    </tr>\n",
       "  </tbody>\n",
       "</table>\n",
       "</div>"
      ],
      "text/plain": [
       "   Unnamed: 0                 start_date                   end_date  \\\n",
       "0           0  2020-01-01 00:00:00+01:00  2020-01-01 01:00:00+01:00   \n",
       "1           1  2020-01-01 01:00:00+01:00  2020-01-01 02:00:00+01:00   \n",
       "2           2  2020-01-01 02:00:00+01:00  2020-01-01 03:00:00+01:00   \n",
       "3           3  2020-01-01 03:00:00+01:00  2020-01-01 04:00:00+01:00   \n",
       "4           4  2020-01-01 04:00:00+01:00  2020-01-01 05:00:00+01:00   \n",
       "\n",
       "                updated_date  value  \n",
       "0  2020-01-01T00:37:05+01:00   3361  \n",
       "1  2020-01-01T01:37:08+01:00   2810  \n",
       "2  2020-01-01T02:37:06+01:00   2655  \n",
       "3  2020-01-01T03:37:07+01:00   2736  \n",
       "4  2020-01-01T04:37:05+01:00   2631  "
      ]
     },
     "execution_count": 147,
     "metadata": {},
     "output_type": "execute_result"
    }
   ],
   "source": [
    "data_RTE.head()"
   ]
  },
  {
   "cell_type": "markdown",
   "metadata": {},
   "source": [
    "On renomme les trois colonnes nécessaires et on enlève les colonnes inutiles"
   ]
  },
  {
   "cell_type": "code",
   "execution_count": 148,
   "metadata": {},
   "outputs": [],
   "source": [
    "columns_to_drop = ['end_date', 'updated_date']\n",
    "data_RTE = data_RTE.drop(columns_to_drop, axis=1)\n",
    "\n",
    "columns_to_rename = {'Unnamed: 0': 'Index', 'start_date': 'Time', 'value': 'Electricity'}\n",
    "data_RTE = data_RTE.rename(columns=columns_to_rename)"
   ]
  },
  {
   "cell_type": "markdown",
   "metadata": {},
   "source": [
    "On enlève les éléments de la date inutile afin d'harmoniser"
   ]
  },
  {
   "cell_type": "code",
   "execution_count": 149,
   "metadata": {},
   "outputs": [],
   "source": [
    "caracteres = [\"+01:00\",\" \"]\n",
    "    \n",
    "for string in caracteres:\n",
    "    data_RTE[\"Time\"] = data_RTE[\"Time\"].apply(lambda x: x.replace(string, ''))"
   ]
  },
  {
   "cell_type": "code",
   "execution_count": 150,
   "metadata": {},
   "outputs": [
    {
     "data": {
      "text/html": [
       "<div>\n",
       "<style scoped>\n",
       "    .dataframe tbody tr th:only-of-type {\n",
       "        vertical-align: middle;\n",
       "    }\n",
       "\n",
       "    .dataframe tbody tr th {\n",
       "        vertical-align: top;\n",
       "    }\n",
       "\n",
       "    .dataframe thead th {\n",
       "        text-align: right;\n",
       "    }\n",
       "</style>\n",
       "<table border=\"1\" class=\"dataframe\">\n",
       "  <thead>\n",
       "    <tr style=\"text-align: right;\">\n",
       "      <th></th>\n",
       "      <th>Index</th>\n",
       "      <th>Time</th>\n",
       "      <th>Electricity</th>\n",
       "    </tr>\n",
       "  </thead>\n",
       "  <tbody>\n",
       "    <tr>\n",
       "      <th>0</th>\n",
       "      <td>0</td>\n",
       "      <td>2020-01-0100:00:00</td>\n",
       "      <td>3361</td>\n",
       "    </tr>\n",
       "    <tr>\n",
       "      <th>1</th>\n",
       "      <td>1</td>\n",
       "      <td>2020-01-0101:00:00</td>\n",
       "      <td>2810</td>\n",
       "    </tr>\n",
       "    <tr>\n",
       "      <th>2</th>\n",
       "      <td>2</td>\n",
       "      <td>2020-01-0102:00:00</td>\n",
       "      <td>2655</td>\n",
       "    </tr>\n",
       "    <tr>\n",
       "      <th>3</th>\n",
       "      <td>3</td>\n",
       "      <td>2020-01-0103:00:00</td>\n",
       "      <td>2736</td>\n",
       "    </tr>\n",
       "    <tr>\n",
       "      <th>4</th>\n",
       "      <td>4</td>\n",
       "      <td>2020-01-0104:00:00</td>\n",
       "      <td>2631</td>\n",
       "    </tr>\n",
       "  </tbody>\n",
       "</table>\n",
       "</div>"
      ],
      "text/plain": [
       "   Index                Time  Electricity\n",
       "0      0  2020-01-0100:00:00         3361\n",
       "1      1  2020-01-0101:00:00         2810\n",
       "2      2  2020-01-0102:00:00         2655\n",
       "3      3  2020-01-0103:00:00         2736\n",
       "4      4  2020-01-0104:00:00         2631"
      ]
     },
     "execution_count": 150,
     "metadata": {},
     "output_type": "execute_result"
    }
   ],
   "source": [
    "data_RTE.head()"
   ]
  },
  {
   "cell_type": "markdown",
   "metadata": {},
   "source": [
    "Les dates sont bien au format harmonisé voulu."
   ]
  },
  {
   "cell_type": "markdown",
   "metadata": {},
   "source": [
    "### **2) Régression au niveau national**\n",
    "#### **Calcul des moyennes**"
   ]
  },
  {
   "cell_type": "code",
   "execution_count": null,
   "metadata": {},
   "outputs": [],
   "source": [
    "hours = df.groupby(df.index.hour)\n",
    "\n",
    "mean_nat = hours.mean()"
   ]
  },
  {
   "cell_type": "markdown",
   "metadata": {},
   "source": [
    "#### **Régression linéaire**"
   ]
  },
  {
   "cell_type": "code",
   "execution_count": null,
   "metadata": {},
   "outputs": [],
   "source": [
    "import statsmodels.formula.api as smf\n",
    "\n",
    "def regression_results(data):\n",
    "    model = smf.ols(\"electricity ~ wind\", data=data).fit()\n",
    "    predictions = model.predict(data)\n",
    "    print(model.summary())\n",
    "    \n",
    "regression_results(mean_nat)  "
   ]
  },
  {
   "cell_type": "markdown",
   "metadata": {},
   "source": [
    "#### **Graphiques**"
   ]
  },
  {
   "cell_type": "code",
   "execution_count": null,
   "metadata": {},
   "outputs": [],
   "source": [
    "def plot_linear_regression(data):\n",
    "    plot = sns.regplot(x=\"wind\", y=\"electricity\", data=data)\n",
    "    sns.lmplot(x=\"wind\", y=\"electricity\", data=data)\n",
    "    return plot\n",
    "\n",
    "plot = plot_linear_regression(mean_nat)\n",
    "plt.show()"
   ]
  }
 ],
 "metadata": {
  "kernelspec": {
   "display_name": "Python 3",
   "language": "python",
   "name": "python3"
  },
  "language_info": {
   "codemirror_mode": {
    "name": "ipython",
    "version": 3
   },
   "file_extension": ".py",
   "mimetype": "text/x-python",
   "name": "python",
   "nbconvert_exporter": "python",
   "pygments_lexer": "ipython3",
   "version": "3.7.6"
  }
 },
 "nbformat": 4,
 "nbformat_minor": 4
}
