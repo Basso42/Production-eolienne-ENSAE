{
 "cells": [
  {
   "cell_type": "markdown",
   "id": "5a3d9e68",
   "metadata": {},
   "source": [
    "# **Projet Python : prévision de la production éléctrique éolienne en France**\n",
    "#### Florian Basso, Théo Ferry, Julien Peignon\n",
    "***\n",
    "L'objectif de ce projet est d'utiliser des données météorologiques de vents ainsi que des données liées au parc éolien français (position des éoliennes, puissance potentielle, etc..) afin de mettre en place des modèles de prédiction de la production d'énergie éolienne.\n",
    "***\n",
    "## 1) Données\n",
    "### a) Récupération\n",
    "Les données du Ministère de la Transition Écologique et de RTE sont en open data. Les données de Météo France sur les vents sont disponibles avec une API.\n",
    "\n",
    "**Code à venir:** API données métérologiques, code téléchargement données éoliennes + données RTE"
   ]
  },
  {
   "cell_type": "code",
   "execution_count": null,
   "id": "853f1ad7",
   "metadata": {},
   "outputs": [],
   "source": []
  },
  {
   "cell_type": "markdown",
   "id": "225421b9",
   "metadata": {},
   "source": [
    "### b) Travail sur nos bases de données\n",
    "\n",
    "L’enjeu sera de fusionner nos trois bases de données, de les retravailler de manière à associer les vents (qui sont mesurés à une localisation précise) aux éoliennes qui produisent dans un rayon proche afin d’estimer le plus finement possible la production en fonction des conditions météorologiques locales."
   ]
  },
  {
   "cell_type": "code",
   "execution_count": null,
   "id": "b5404e6e",
   "metadata": {},
   "outputs": [],
   "source": []
  },
  {
   "cell_type": "markdown",
   "id": "b88b634a",
   "metadata": {},
   "source": [
    "### c) Analyse descriptive\n",
    "\n",
    "Premièrement, nous allons créer une carte afin de visualiser la position des installations éoliennes sur le territoire français"
   ]
  },
  {
   "cell_type": "code",
   "execution_count": null,
   "id": "d3ba7ed0",
   "metadata": {},
   "outputs": [],
   "source": [
    "!pip install matplotlib\n",
    "!pip install geopandas\n",
    "!pip install pandas  "
   ]
  },
  {
   "cell_type": "code",
   "execution_count": 10,
   "id": "ea84e265",
   "metadata": {},
   "outputs": [],
   "source": [
    "import pandas as pd\n",
    "import geopandas as gpd\n",
    "import matplotlib.pyplot as plt"
   ]
  },
  {
   "cell_type": "code",
   "execution_count": 11,
   "id": "269398f2",
   "metadata": {},
   "outputs": [],
   "source": [
    "url = 'https://opendata.agenceore.fr/explore/dataset/installations-de-production-eolien-par-commune/download?format=csv&timezone=Europe/Berlin&use_labels_for_header=false'"
   ]
  },
  {
   "cell_type": "markdown",
   "id": "c5618c99",
   "metadata": {},
   "source": [
    "## 2) Modélisation\n",
    "### a) Modèle linéaire simple\n",
    "\n",
    "Nous commencerons la modélisation pour une prédiction « naïve » de la production électrique avec un modèle de régression linéaire simple."
   ]
  },
  {
   "cell_type": "code",
   "execution_count": null,
   "id": "c47ed58c",
   "metadata": {},
   "outputs": [],
   "source": []
  },
  {
   "cell_type": "markdown",
   "id": "a232655f",
   "metadata": {},
   "source": [
    "### b) Machine learning\n",
    "\n",
    "Nous utilisons ensuite des modèles de machine learning plus performants pour d’avoir des prédictions plus précises. Nous pourrons comparer les résultats des deux modèles afin d’illustrer les faiblesses du modèle linéaire simple."
   ]
  },
  {
   "cell_type": "code",
   "execution_count": null,
   "id": "be70d46c",
   "metadata": {},
   "outputs": [],
   "source": []
  }
 ],
 "metadata": {
  "kernelspec": {
   "display_name": "Python 3 (ipykernel)",
   "language": "python",
   "name": "python3"
  },
  "language_info": {
   "codemirror_mode": {
    "name": "ipython",
    "version": 3
   },
   "file_extension": ".py",
   "mimetype": "text/x-python",
   "name": "python",
   "nbconvert_exporter": "python",
   "pygments_lexer": "ipython3",
   "version": "3.9.7"
  }
 },
 "nbformat": 4,
 "nbformat_minor": 5
}
