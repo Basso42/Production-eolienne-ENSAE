{
 "cells": [
  {
   "cell_type": "markdown",
   "metadata": {},
   "source": [
    "On télécharge le jeu de données"
   ]
  },
  {
   "cell_type": "code",
   "execution_count": 4,
   "metadata": {
    "collapsed": true,
    "jupyter": {
     "outputs_hidden": true
    }
   },
   "outputs": [
    {
     "name": "stdout",
     "output_type": "stream",
     "text": [
      "<class 'pandas.core.frame.DataFrame'>\n",
      "RangeIndex: 160130 entries, 0 to 160129\n",
      "Data columns (total 82 columns):\n",
      " #   Column                                                     Non-Null Count   Dtype  \n",
      "---  ------                                                     --------------   -----  \n",
      " 0   ID OMM station                                             160130 non-null  int64  \n",
      " 1   Date                                                       160130 non-null  object \n",
      " 2   Pression au niveau mer                                     149305 non-null  float64\n",
      " 3   Variation de pression en 3 heures                          155319 non-null  float64\n",
      " 4   Type de tendance barométrique                              155319 non-null  float64\n",
      " 5   Direction du vent moyen 10 mn                              156132 non-null  float64\n",
      " 6   Vitesse du vent moyen 10 mn                                156132 non-null  float64\n",
      " 7   Température                                                157053 non-null  float64\n",
      " 8   Point de rosée                                             156209 non-null  float64\n",
      " 9   Humidité                                                   156433 non-null  float64\n",
      " 10  Visibilité horizontale                                     121393 non-null  float64\n",
      " 11  Temps présent                                              118075 non-null  float64\n",
      " 12  Temps passé 1                                              19867 non-null   float64\n",
      " 13  Temps passé 2                                              11943 non-null   float64\n",
      " 14  Nebulosité totale                                          58519 non-null   float64\n",
      " 15  Nébulosité  des nuages de l' étage inférieur               106250 non-null  float64\n",
      " 16  Hauteur de la base des nuages de l'étage inférieur         72023 non-null   float64\n",
      " 17  Type des nuages de l'étage inférieur                       18035 non-null   float64\n",
      " 18  Type des nuages de l'étage moyen                           14229 non-null   float64\n",
      " 19  Type des nuages de l'étage supérieur                       12644 non-null   float64\n",
      " 20  Pression station                                           155374 non-null  float64\n",
      " 21  Niveau barométrique                                        2692 non-null    float64\n",
      " 22  Géopotentiel                                               2691 non-null    float64\n",
      " 23  Variation de pression en 24 heures                         149488 non-null  float64\n",
      " 24  Température minimale sur 12 heures                         30159 non-null   float64\n",
      " 25  Température minimale sur 24 heures                         29400 non-null   float64\n",
      " 26  Température maximale sur 12 heures                         29527 non-null   float64\n",
      " 27  Température maximale sur 24 heures                         29620 non-null   float64\n",
      " 28  Température minimale du sol sur 12 heures                  94159 non-null   float64\n",
      " 29  Méthode de mesure Température du thermomètre mouillé       0 non-null       float64\n",
      " 30  Température du thermomètre mouillé                         0 non-null       float64\n",
      " 31  Rafale sur les 10 dernières minutes                        120865 non-null  float64\n",
      " 32  Rafales sur une période                                    125602 non-null  float64\n",
      " 33  Periode de mesure de la rafale                             126070 non-null  float64\n",
      " 34  Etat du sol                                                71152 non-null   float64\n",
      " 35  Hauteur totale de la couche de neige, glace, autre au sol  88791 non-null   float64\n",
      " 36  Hauteur de la neige fraîche                                5885 non-null    float64\n",
      " 37  Periode de mesure de la neige fraiche                      5885 non-null    float64\n",
      " 38  Précipitations dans la dernière heure                      152639 non-null  float64\n",
      " 39  Précipitations dans les 3 dernières heures                 151962 non-null  float64\n",
      " 40  Précipitations dans les 6 dernières heures                 149466 non-null  float64\n",
      " 41  Précipitations dans les 12 dernières heures                148040 non-null  float64\n",
      " 42  Précipitations dans les 24 dernières heures                146169 non-null  float64\n",
      " 43  Phénomène spécial 1                                        0 non-null       float64\n",
      " 44  Phénomène spécial 2                                        0 non-null       float64\n",
      " 45  Phénomène spécial 3                                        0 non-null       float64\n",
      " 46  Phénomène spécial 4                                        0 non-null       float64\n",
      " 47  Nébulosité couche nuageuse 1                               73276 non-null   float64\n",
      " 48  Type nuage 1                                               17283 non-null   float64\n",
      " 49  Hauteur de base 1                                          71591 non-null   float64\n",
      " 50  Nébulosité couche nuageuse 2                               35681 non-null   float64\n",
      " 51  Type nuage 2                                               7607 non-null    float64\n",
      " 52  Hauteur de base 2                                          35681 non-null   float64\n",
      " 53  Nébulosité couche nuageuse 3                               15936 non-null   float64\n",
      " 54  Type nuage 3                                               3462 non-null    float64\n",
      " 55  Hauteur de base 3                                          15936 non-null   float64\n",
      " 56  Nébulosité couche nuageuse 4                               280 non-null     float64\n",
      " 57  Type nuage 4                                               4502 non-null    float64\n",
      " 58  Hauteur de base 4                                          280 non-null     float64\n",
      " 59  Coordonnees                                                160130 non-null  object \n",
      " 60  Nom                                                        160130 non-null  object \n",
      " 61  Type de tendance barométrique.1                            155319 non-null  object \n",
      " 62  Temps passé 1.1                                            19867 non-null   object \n",
      " 63  Temps présent.1                                            118075 non-null  object \n",
      " 64  Température (°C)                                           157053 non-null  float64\n",
      " 65  Température minimale sur 12 heures (°C)                    30159 non-null   float64\n",
      " 66  Température minimale sur 24 heures (°C)                    29400 non-null   float64\n",
      " 67  Température maximale sur 12 heures (°C)                    29527 non-null   float64\n",
      " 68  Température maximale sur 24 heures (°C)                    29620 non-null   float64\n",
      " 69  Température minimale du sol sur 12 heures (en °C)          94159 non-null   float64\n",
      " 70  Latitude                                                   160130 non-null  float64\n",
      " 71  Longitude                                                  160130 non-null  float64\n",
      " 72  Altitude                                                   160130 non-null  int64  \n",
      " 73  communes (name)                                            149813 non-null  object \n",
      " 74  communes (code)                                            149813 non-null  object \n",
      " 75  EPCI (name)                                                136747 non-null  object \n",
      " 76  EPCI (code)                                                136747 non-null  float64\n",
      " 77  department (name)                                          149813 non-null  object \n",
      " 78  department (code)                                          149813 non-null  object \n",
      " 79  region (name)                                              149813 non-null  object \n",
      " 80  region (code)                                              149813 non-null  float64\n",
      " 81  mois_de_l_annee                                            160130 non-null  int64  \n",
      "dtypes: float64(67), int64(3), object(12)\n",
      "memory usage: 100.2+ MB\n"
     ]
    }
   ],
   "source": [
    "import numpy as np\n",
    "import pandas as pd\n",
    "\n",
    "df = pd.read_csv(\"vent_brut_2022.csv\", sep=\";\")"
   ]
  },
  {
   "cell_type": "markdown",
   "metadata": {},
   "source": [
    "On supprime les colonnes qui ne nous intéressent pas pour garder les suivantes:\n",
    "- Date\n",
    "- Position (latitude, longitude)\n",
    "- Vitesse du vent"
   ]
  },
  {
   "cell_type": "code",
   "execution_count": 32,
   "metadata": {
    "collapsed": true,
    "jupyter": {
     "outputs_hidden": true
    }
   },
   "outputs": [
    {
     "name": "stdout",
     "output_type": "stream",
     "text": [
      "cool\n",
      "cool\n",
      "cool\n",
      "cool\n"
     ]
    }
   ],
   "source": [
    "colonnes_df = df.columns.tolist()\n",
    "colonnes = [\"Date\", \"Latitude\", \"Longitude\", \"Vitesse du vent moyen 10 mn\"]\n",
    "for i in range(len(colonnes_df)):\n",
    "    if colonnes_df[i] not in colonnes:\n",
    "        del df[colonnes_df[i]]\n",
    "    else:\n",
    "        print(\"cool\")"
   ]
  },
  {
   "cell_type": "code",
   "execution_count": 33,
   "metadata": {
    "collapsed": true,
    "jupyter": {
     "outputs_hidden": true
    }
   },
   "outputs": [
    {
     "name": "stdout",
     "output_type": "stream",
     "text": [
      "<class 'pandas.core.frame.DataFrame'>\n",
      "RangeIndex: 160130 entries, 0 to 160129\n",
      "Data columns (total 4 columns):\n",
      " #   Column                       Non-Null Count   Dtype  \n",
      "---  ------                       --------------   -----  \n",
      " 0   Date                         160130 non-null  object \n",
      " 1   Vitesse du vent moyen 10 mn  156132 non-null  float64\n",
      " 2   Latitude                     160130 non-null  float64\n",
      " 3   Longitude                    160130 non-null  float64\n",
      "dtypes: float64(3), object(1)\n",
      "memory usage: 4.9+ MB\n"
     ]
    }
   ],
   "source": [
    "df.info()"
   ]
  }
 ],
 "metadata": {
  "kernelspec": {
   "display_name": "Python 3",
   "language": "python",
   "name": "python3"
  },
  "language_info": {
   "codemirror_mode": {
    "name": "ipython",
    "version": 3
   },
   "file_extension": ".py",
   "mimetype": "text/x-python",
   "name": "python",
   "nbconvert_exporter": "python",
   "pygments_lexer": "ipython3",
   "version": "3.7.6"
  }
 },
 "nbformat": 4,
 "nbformat_minor": 4
}
