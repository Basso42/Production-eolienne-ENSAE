{
 "cells": [
  {
   "cell_type": "markdown",
   "id": "68c2dafe-905c-4248-8400-bce846223eb7",
   "metadata": {},
   "source": [
    "Dans cette partie, nous allons afficher les éoliennes sur la carte de France"
   ]
  },
  {
   "cell_type": "code",
   "execution_count": null,
   "id": "602ad410-ab0f-4845-af21-1eb48694d5cc",
   "metadata": {},
   "outputs": [],
   "source": [
    "import pandas as pd\n",
    "import numpy as np"
   ]
  },
  {
   "cell_type": "code",
   "execution_count": null,
   "id": "16af2bf3-965d-434f-9ba0-c3e14850d925",
   "metadata": {},
   "outputs": [],
   "source": [
    "df = pd.read_csv(\"eolien.csv\", sep=\";\")"
   ]
  },
  {
   "cell_type": "code",
   "execution_count": null,
   "id": "90a608e8-383e-4d95-98be-bff8cf85fc69",
   "metadata": {},
   "outputs": [],
   "source": [
    "df.head()"
   ]
  },
  {
   "cell_type": "markdown",
   "id": "0d968505-0e91-47a6-835f-5120e5a63193",
   "metadata": {},
   "source": [
    "On retrouve ici l'emplacement de l'éolienne, ainsi que la longueur des pales, ce qui sont les informations qui nous intéressent dans un premier temps. "
   ]
  },
  {
   "cell_type": "markdown",
   "id": "5437d32c-599d-4253-8b5d-82e2c10eeb70",
   "metadata": {},
   "source": [
    "On convertit la colonnes date_maj en date interprétable plus facilement"
   ]
  },
  {
   "cell_type": "code",
   "execution_count": null,
   "id": "807e0956-69df-4efd-ae48-8040bfa2f6cf",
   "metadata": {},
   "outputs": [],
   "source": [
    "import datetime\n",
    "\n",
    "df.date_mise_en_service = pd.to_datetime((df.date_mise_en_service))"
   ]
  },
  {
   "cell_type": "code",
   "execution_count": null,
   "id": "41407f18-1064-41a2-9116-ca64a5d5df39",
   "metadata": {},
   "outputs": [],
   "source": [
    "df.head()"
   ]
  },
  {
   "cell_type": "code",
   "execution_count": null,
   "id": "60b9acdb-da59-4f67-b1b1-8e902deaf905",
   "metadata": {},
   "outputs": [],
   "source": [
    "df.count()"
   ]
  },
  {
   "cell_type": "markdown",
   "id": "8e7460d0-f68c-4ce5-b4a9-6a93d85a6177",
   "metadata": {},
   "source": [
    "Il y a 7483 éoliennes dans ce tableau. \n",
    "L'autre donnée intéressante est que nous n'avons que 4331 date de mise en service soit 58% de date de mise en service. "
   ]
  },
  {
   "cell_type": "markdown",
   "id": "60ccfedb-cad5-431a-8e62-e73c3fedc11f",
   "metadata": {},
   "source": [
    "On convertit cela pour avoir des données exploitables par geopandas"
   ]
  },
  {
   "cell_type": "code",
   "execution_count": null,
   "id": "959d2e2c-9812-48c8-ba50-773a9f459ecc",
   "metadata": {},
   "outputs": [],
   "source": [
    "!pip install pandas fiona shapely pyproj rtree # à faire obligatoirement en premier pour utiliser rtree ou pygeos pour les jointures spatiales\n",
    "!pip install contextily\n",
    "!pip install geopandas"
   ]
  },
  {
   "cell_type": "code",
   "execution_count": null,
   "id": "25e2b242-e3c3-43ad-855a-a441fe5f3fd0",
   "metadata": {},
   "outputs": [],
   "source": [
    "import geopandas as gpd\n",
    "import contextily as ctx\n",
    "import matplotlib.pyplot as plt\n",
    "!pip install --upgrade botocore==1.23.26  #Sur colab, sinon bug"
   ]
  },
  {
   "cell_type": "code",
   "execution_count": null,
   "id": "5edcfef0-bbb4-4278-86ae-d4bb59499136",
   "metadata": {},
   "outputs": [],
   "source": [
    "from shapely.geometry import Point\n",
    "geometrie = [Point(xy) for xy in zip(df.x_aerogenerateur,df.y_aerogenerateur)] # colonnes du DataFrame résultants\n",
    "caract_eoliennes = gpd.GeoDataFrame(df,geometry=geometrie)\n",
    "caract_eoliennes = caract_eoliennes.set_crs(2154, allow_override=True)"
   ]
  },
  {
   "cell_type": "code",
   "execution_count": 162,
   "id": "3109f00c-3d76-4a4f-b1d5-1cb319084e04",
   "metadata": {},
   "outputs": [
    {
     "data": {
      "text/html": [
       "<div>\n",
       "<style scoped>\n",
       "    .dataframe tbody tr th:only-of-type {\n",
       "        vertical-align: middle;\n",
       "    }\n",
       "\n",
       "    .dataframe tbody tr th {\n",
       "        vertical-align: top;\n",
       "    }\n",
       "\n",
       "    .dataframe thead th {\n",
       "        text-align: right;\n",
       "    }\n",
       "</style>\n",
       "<table border=\"1\" class=\"dataframe\">\n",
       "  <thead>\n",
       "    <tr style=\"text-align: right;\">\n",
       "      <th></th>\n",
       "      <th>id_aerogenerateur</th>\n",
       "      <th>id_parc</th>\n",
       "      <th>code_insee</th>\n",
       "      <th>nom_commune</th>\n",
       "      <th>code_dept</th>\n",
       "      <th>code_reg</th>\n",
       "      <th>puissance</th>\n",
       "      <th>hauteur_totale</th>\n",
       "      <th>hauteur_mat_nacelle</th>\n",
       "      <th>diametre_rotor</th>\n",
       "      <th>...</th>\n",
       "      <th>date_mise_en_service</th>\n",
       "      <th>constructeur</th>\n",
       "      <th>reference_modele</th>\n",
       "      <th>x_aerogenerateur</th>\n",
       "      <th>y_aerogenerateur</th>\n",
       "      <th>epsg</th>\n",
       "      <th>libelle</th>\n",
       "      <th>date_maj</th>\n",
       "      <th>nom_eolienne</th>\n",
       "      <th>geometry</th>\n",
       "    </tr>\n",
       "  </thead>\n",
       "  <tbody>\n",
       "    <tr>\n",
       "      <th>0</th>\n",
       "      <td>0005503449_E1</td>\n",
       "      <td>5503449</td>\n",
       "      <td>35068</td>\n",
       "      <td>CHATEAUBOURG</td>\n",
       "      <td>35</td>\n",
       "      <td>53</td>\n",
       "      <td>1.0</td>\n",
       "      <td>99.7</td>\n",
       "      <td>73.0</td>\n",
       "      <td>53.0</td>\n",
       "      <td>...</td>\n",
       "      <td>2011-04-23</td>\n",
       "      <td>ENERCON</td>\n",
       "      <td>E-53</td>\n",
       "      <td>371155.00</td>\n",
       "      <td>6786614.0</td>\n",
       "      <td>2154</td>\n",
       "      <td>Lambert-93</td>\n",
       "      <td>2022-05-19</td>\n",
       "      <td>NaN</td>\n",
       "      <td>POINT (-1.41971 48.09705)</td>\n",
       "    </tr>\n",
       "    <tr>\n",
       "      <th>1</th>\n",
       "      <td>0005306849_E1</td>\n",
       "      <td>5306849</td>\n",
       "      <td>50363</td>\n",
       "      <td>MOYON VILLAGES</td>\n",
       "      <td>50</td>\n",
       "      <td>28</td>\n",
       "      <td>2.3</td>\n",
       "      <td>124.0</td>\n",
       "      <td>83.0</td>\n",
       "      <td>82.0</td>\n",
       "      <td>...</td>\n",
       "      <td>2014-04-01</td>\n",
       "      <td>ENERCON</td>\n",
       "      <td>E-82 E2</td>\n",
       "      <td>395860.28</td>\n",
       "      <td>6887806.5</td>\n",
       "      <td>2154</td>\n",
       "      <td>Lambert-93</td>\n",
       "      <td>2022-05-31</td>\n",
       "      <td>NaN</td>\n",
       "      <td>POINT (-1.15988 49.01804)</td>\n",
       "    </tr>\n",
       "    <tr>\n",
       "      <th>2</th>\n",
       "      <td>0005306849_E2</td>\n",
       "      <td>5306849</td>\n",
       "      <td>50363</td>\n",
       "      <td>MOYON VILLAGES</td>\n",
       "      <td>50</td>\n",
       "      <td>28</td>\n",
       "      <td>2.3</td>\n",
       "      <td>124.0</td>\n",
       "      <td>83.0</td>\n",
       "      <td>82.0</td>\n",
       "      <td>...</td>\n",
       "      <td>2014-04-01</td>\n",
       "      <td>ENERCON</td>\n",
       "      <td>E-82 E2</td>\n",
       "      <td>395830.44</td>\n",
       "      <td>6886987.0</td>\n",
       "      <td>2154</td>\n",
       "      <td>Lambert-93</td>\n",
       "      <td>2022-05-31</td>\n",
       "      <td>NaN</td>\n",
       "      <td>POINT (-1.15970 49.01067)</td>\n",
       "    </tr>\n",
       "    <tr>\n",
       "      <th>3</th>\n",
       "      <td>0005306849_E3</td>\n",
       "      <td>5306849</td>\n",
       "      <td>50363</td>\n",
       "      <td>MOYON VILLAGES</td>\n",
       "      <td>50</td>\n",
       "      <td>28</td>\n",
       "      <td>2.3</td>\n",
       "      <td>124.0</td>\n",
       "      <td>83.0</td>\n",
       "      <td>82.0</td>\n",
       "      <td>...</td>\n",
       "      <td>2014-04-01</td>\n",
       "      <td>ENERCON</td>\n",
       "      <td>E-82 E2</td>\n",
       "      <td>395760.56</td>\n",
       "      <td>6886064.0</td>\n",
       "      <td>2154</td>\n",
       "      <td>Lambert-93</td>\n",
       "      <td>2022-05-31</td>\n",
       "      <td>NaN</td>\n",
       "      <td>POINT (-1.15999 49.00235)</td>\n",
       "    </tr>\n",
       "    <tr>\n",
       "      <th>4</th>\n",
       "      <td>0003102050_E1</td>\n",
       "      <td>3102050</td>\n",
       "      <td>16317</td>\n",
       "      <td>ST FRAIGNE</td>\n",
       "      <td>16</td>\n",
       "      <td>75</td>\n",
       "      <td>3.6</td>\n",
       "      <td>180.0</td>\n",
       "      <td>119.0</td>\n",
       "      <td>126.0</td>\n",
       "      <td>...</td>\n",
       "      <td>NaT</td>\n",
       "      <td>VESTAS</td>\n",
       "      <td>V126-3.6MW</td>\n",
       "      <td>463180.00</td>\n",
       "      <td>6547301.0</td>\n",
       "      <td>2154</td>\n",
       "      <td>Lambert-93</td>\n",
       "      <td>2022-06-22</td>\n",
       "      <td>NaN</td>\n",
       "      <td>POINT (-0.05985 45.98413)</td>\n",
       "    </tr>\n",
       "  </tbody>\n",
       "</table>\n",
       "<p>5 rows × 25 columns</p>\n",
       "</div>"
      ],
      "text/plain": [
       "  id_aerogenerateur  id_parc code_insee     nom_commune code_dept  code_reg  \\\n",
       "0     0005503449_E1  5503449      35068    CHATEAUBOURG        35        53   \n",
       "1     0005306849_E1  5306849      50363  MOYON VILLAGES        50        28   \n",
       "2     0005306849_E2  5306849      50363  MOYON VILLAGES        50        28   \n",
       "3     0005306849_E3  5306849      50363  MOYON VILLAGES        50        28   \n",
       "4     0003102050_E1  3102050      16317      ST FRAIGNE        16        75   \n",
       "\n",
       "   puissance  hauteur_totale  hauteur_mat_nacelle  diametre_rotor  ...  \\\n",
       "0        1.0            99.7                 73.0            53.0  ...   \n",
       "1        2.3           124.0                 83.0            82.0  ...   \n",
       "2        2.3           124.0                 83.0            82.0  ...   \n",
       "3        2.3           124.0                 83.0            82.0  ...   \n",
       "4        3.6           180.0                119.0           126.0  ...   \n",
       "\n",
       "   date_mise_en_service constructeur  reference_modele x_aerogenerateur  \\\n",
       "0            2011-04-23      ENERCON              E-53        371155.00   \n",
       "1            2014-04-01      ENERCON           E-82 E2        395860.28   \n",
       "2            2014-04-01      ENERCON           E-82 E2        395830.44   \n",
       "3            2014-04-01      ENERCON           E-82 E2        395760.56   \n",
       "4                   NaT       VESTAS        V126-3.6MW        463180.00   \n",
       "\n",
       "   y_aerogenerateur  epsg     libelle    date_maj  nom_eolienne  \\\n",
       "0         6786614.0  2154  Lambert-93  2022-05-19           NaN   \n",
       "1         6887806.5  2154  Lambert-93  2022-05-31           NaN   \n",
       "2         6886987.0  2154  Lambert-93  2022-05-31           NaN   \n",
       "3         6886064.0  2154  Lambert-93  2022-05-31           NaN   \n",
       "4         6547301.0  2154  Lambert-93  2022-06-22           NaN   \n",
       "\n",
       "                    geometry  \n",
       "0  POINT (-1.41971 48.09705)  \n",
       "1  POINT (-1.15988 49.01804)  \n",
       "2  POINT (-1.15970 49.01067)  \n",
       "3  POINT (-1.15999 49.00235)  \n",
       "4  POINT (-0.05985 45.98413)  \n",
       "\n",
       "[5 rows x 25 columns]"
      ]
     },
     "execution_count": 162,
     "metadata": {},
     "output_type": "execute_result"
    }
   ],
   "source": [
    "caract_eoliennes.head()"
   ]
  },
  {
   "cell_type": "code",
   "execution_count": null,
   "id": "e3996417-e3f7-46fe-b83f-0d69bc2ec873",
   "metadata": {},
   "outputs": [],
   "source": [
    "fig,ax = plt.subplots(figsize=(10, 10))\n",
    "caract_eoliennes.plot(ax = ax, color = 'red', alpha = 0.2, zorder=2)"
   ]
  },
  {
   "cell_type": "markdown",
   "id": "965ed99d-7bd3-4d09-9751-1913b5d2f592",
   "metadata": {},
   "source": [
    "On va désormais afficher une carte de France pour afficher les éoliennes sur la carte "
   ]
  },
  {
   "cell_type": "markdown",
   "id": "bda26994-e829-49fd-b631-8e038a93734c",
   "metadata": {},
   "source": [
    "On utilise le paquet Cartiflette "
   ]
  },
  {
   "cell_type": "code",
   "execution_count": null,
   "id": "9c67105b-a219-42a5-bf30-8e93dcbd6b8c",
   "metadata": {},
   "outputs": [],
   "source": [
    "!pip install --upgrade urllib3==1.22.0 #Sur colab, sinon bug\n",
    "!pip install py7zr #Sur colab, sinon bug\n",
    "!pip install s3fs #Sur colab, sinon bug\n",
    "!git clone https://github.com/InseeFrLab/cartogether.git\n",
    "%cd ./cartogether\n",
    "!pip install -r requirements.txt\n",
    "!pip install ."
   ]
  },
  {
   "cell_type": "code",
   "execution_count": null,
   "id": "d5b1e6db-1c23-4fe9-9dca-e9af0bc192c9",
   "metadata": {},
   "outputs": [],
   "source": [
    "from cartiflette.download import get_vectorfile_ign"
   ]
  },
  {
   "cell_type": "code",
   "execution_count": null,
   "id": "a6de899f-c781-4845-a919-41dee605e551",
   "metadata": {},
   "outputs": [],
   "source": [
    "france = get_vectorfile_ign(\n",
    "    field=\"metropole\",\n",
    "    level=\"REGION\",\n",
    "    year=2022)"
   ]
  },
  {
   "cell_type": "code",
   "execution_count": null,
   "id": "0d3a61a1-4c05-4c8a-a25c-b76233e28e47",
   "metadata": {},
   "outputs": [],
   "source": [
    "france = france[0:13] #On retire les outre-mers de la carte\n",
    "france.head()"
   ]
  },
  {
   "cell_type": "code",
   "execution_count": null,
   "id": "3d314173-afe6-4563-ada4-af052632db66",
   "metadata": {},
   "outputs": [],
   "source": [
    "ax = france.plot()\n",
    "ax.set_axis_off()"
   ]
  },
  {
   "cell_type": "markdown",
   "id": "c3e0c644-a03c-4f48-ba1d-46621556481d",
   "metadata": {},
   "source": [
    "Désormais, nous allons rajouter les éoliennes sur notre carte de France"
   ]
  },
  {
   "cell_type": "code",
   "execution_count": null,
   "id": "17f57189-bb85-497b-93b3-4c22a20e3300",
   "metadata": {},
   "outputs": [],
   "source": [
    "fig,ax = plt.subplots(figsize=(10, 10))\n",
    "caract_eoliennes.plot(ax = ax, color = 'red', alpha = 0.2, zorder=2)\n",
    "france.to_crs(2154).plot(ax = ax, zorder=1, edgecolor = \"black\")"
   ]
  },
  {
   "cell_type": "markdown",
   "id": "4f31da65-0535-41d1-9382-bad4cbcda887",
   "metadata": {},
   "source": [
    "On rajoute de l'interactivité"
   ]
  },
  {
   "cell_type": "code",
   "execution_count": null,
   "id": "8c9604e5-5eeb-4769-827c-d246390370ce",
   "metadata": {},
   "outputs": [],
   "source": [
    "!pip install ipywidgets\n",
    "!jupyter nbextension enable --py widgetsnbextension"
   ]
  },
  {
   "cell_type": "markdown",
   "id": "b1837ccd-3ecd-40ce-8e31-64a147244401",
   "metadata": {},
   "source": [
    "Voici toutes les éoliennes pour lesquelles nous ne possédons pas les dates d'installations (3152 éoliennes soit 42% des éoliennes que nous avons affiché jusqu'ici) :"
   ]
  },
  {
   "cell_type": "code",
   "execution_count": null,
   "id": "5b93e252-d741-42fe-894c-2912d3bf0d94",
   "metadata": {},
   "outputs": [],
   "source": [
    "fig, ax = plt.subplots(figsize=(10,10))\n",
    "france.to_crs(2154).plot(ax = ax, zorder=1, edgecolor = \"black\")\n",
    "caract_eoliennes[caract_eoliennes.date_mise_en_service.isna()].plot(ax = ax, color = 'red', alpha = 0.2, zorder=2)"
   ]
  },
  {
   "cell_type": "markdown",
   "id": "eaba933b-67d8-4597-8918-490b1441f352",
   "metadata": {},
   "source": [
    "Pour celles dont nous connaissons la date, nous affichons ici l'évolution du parc d'éolienne en fonction du temps"
   ]
  },
  {
   "cell_type": "code",
   "execution_count": null,
   "id": "0cd88a74-951e-4bee-966e-b04bfd25d6d9",
   "metadata": {},
   "outputs": [],
   "source": [
    "periode = pd.Series(pd.date_range(\"2010\", freq=\"Y\", periods=14))\n",
    "\n",
    "\n",
    "from ipywidgets import interact\n",
    "\n",
    "def signal_plot(annee):\n",
    "    fig, ax = plt.subplots(figsize=(10,10))\n",
    "    france.to_crs(2154).plot(ax = ax, zorder=1, edgecolor = \"black\")\n",
    "    # Plot les éoliennes\n",
    "    caract_eoliennes[caract_eoliennes.date_mise_en_service < annee].plot(ax = ax, color = 'red', alpha = 0.2, zorder=2)   \n",
    "    \n",
    "interact(signal_plot,\n",
    "            annee=periode)"
   ]
  },
  {
   "cell_type": "markdown",
   "id": "f3b68301-99be-4a20-9bff-508dd7f6263e",
   "metadata": {},
   "source": [
    "En affichant celle dont on ne connait pas date d'installation en vert on n'obtient ce graphique :"
   ]
  },
  {
   "cell_type": "code",
   "execution_count": null,
   "id": "67322624-6ead-465b-8f6c-2f9abfbaa4bf",
   "metadata": {},
   "outputs": [],
   "source": [
    "periode = pd.Series(pd.date_range(\"2010\", freq=\"Y\", periods=14))\n",
    "\n",
    "\n",
    "\n",
    "from ipywidgets import interact\n",
    "\n",
    "\n",
    "def signal_plot(annee):\n",
    "    fig, ax = plt.subplots(figsize=(10,10))\n",
    "    france.to_crs(2154).plot(ax = ax, zorder=1, edgecolor = \"black\")\n",
    "    # Plot les éoliennes\n",
    "    caract_eoliennes[caract_eoliennes.date_mise_en_service.isna()].plot(ax = ax, color = 'green', alpha = 0.2, zorder=2)  \n",
    "    caract_eoliennes[caract_eoliennes.date_mise_en_service < annee].plot(ax = ax, color = 'red', alpha = 0.2, zorder=2)  \n",
    "\n",
    "interact(signal_plot,\n",
    "            annee=periode)"
   ]
  },
  {
   "cell_type": "markdown",
   "id": "3d783876-404a-4189-9f3d-21b8c4e7395d",
   "metadata": {},
   "source": [
    "Tentative de récupération des données de ventTentative de récupération des données météo via OpenWeatherMap"
   ]
  },
  {
   "cell_type": "code",
   "execution_count": null,
   "id": "f5461da2-6d4a-40aa-a1b3-378829f570ed",
   "metadata": {},
   "outputs": [],
   "source": [
    "import json\n",
    "import requests"
   ]
  },
  {
   "cell_type": "markdown",
   "id": "3560d04a-12ec-4e33-b81c-4722f5e80310",
   "metadata": {},
   "source": [
    "Exemple d'utilisation de l'api pour récupérer les données de vent à une latitude/longitude donnée à une date donnée"
   ]
  },
  {
   "cell_type": "code",
   "execution_count": null,
   "id": "a83bd28c-2fcf-4d8c-a9f9-420d077fe387",
   "metadata": {},
   "outputs": [],
   "source": [
    "base_url = \"https://api.open-meteo.com/v1/meteofrance?\"\n",
    "latitude=str(52.52)\n",
    "longitude=str(13.41)\n",
    "start_date=\"2022-06-08\"\n",
    "end_date=\"2022-12-04\"\n",
    "complete_url = base_url + \"latitude=\" + latitude + \"&longitude=\" + longitude + \"&hourly=windspeed_10m&windspeed_unit=ms&start_date=\"+start_date+\"&end_date=\"+end_date\n",
    "\n",
    "reponse = requests.get(complete_url)\n",
    "print(reponse.content)"
   ]
  },
  {
   "cell_type": "code",
   "execution_count": 148,
   "id": "0daf95ac-8160-4aae-b363-71e68c6e7e09",
   "metadata": {},
   "outputs": [],
   "source": [
    "base_url = \"https://archive-api.open-meteo.com/v1/era5?\"\n",
    "latitude=str(52.52)\n",
    "longitude=str(13.41)\n",
    "start_date=\"2022-06-08\"\n",
    "end_date=\"2012-12-04\"\n",
    "complete_url = base_url + \"latitude=\" + latitude + \"&longitude=\" + longitude + \"&hourly=windspeed_10m&windspeed_unit=ms&start_date=\"+start_date+\"&end_date=\"+end_date\n",
    "\n",
    "reponse = requests.get(complete_url)\n",
    "#print(reponse.content)"
   ]
  },
  {
   "cell_type": "markdown",
   "id": "97e0ab62-d7b9-40c7-a0c2-beeda85a51e0",
   "metadata": {},
   "source": [
    "On va essayer de récupérer le vent pour une éolienne, par exemple la prémière de notre ligne "
   ]
  },
  {
   "cell_type": "code",
   "execution_count": 149,
   "id": "1f0d8510-2def-471f-8733-014a4ae7a76f",
   "metadata": {},
   "outputs": [],
   "source": [
    "caract_eoliennes = caract_eoliennes.to_crs(4326)"
   ]
  },
  {
   "cell_type": "code",
   "execution_count": 150,
   "id": "733e58c8-665a-49e8-9ada-f312f0b0e42c",
   "metadata": {},
   "outputs": [
    {
     "name": "stdout",
     "output_type": "stream",
     "text": [
      "POINT (-1.4197135477946279 48.09705051237692)\n",
      "-1.4197135477946279\n"
     ]
    }
   ],
   "source": [
    "a = caract_eoliennes.geometry[0]\n",
    "print(a)\n",
    "print(a.x)"
   ]
  },
  {
   "cell_type": "code",
   "execution_count": 165,
   "id": "9fe80679-8199-4149-9bc4-de9c09118eda",
   "metadata": {},
   "outputs": [
    {
     "name": "stdout",
     "output_type": "stream",
     "text": [
      "2011-04-23\n"
     ]
    }
   ],
   "source": [
    "latitude=str(a.y)\n",
    "longitude=str(a.x)\n",
    "start_date=str(pd.to_datetime(caract_eoliennes.date_mise_en_service[0]).date())\n",
    "print(start_date)\n",
    "end_date=\"2022-12-04\""
   ]
  },
  {
   "cell_type": "code",
   "execution_count": 166,
   "id": "75281635-a11c-4206-b30a-aba073cb897c",
   "metadata": {},
   "outputs": [],
   "source": [
    "complete_url = base_url + \"latitude=\" + latitude + \"&longitude=\" + longitude + \"&hourly=windspeed_10m&windspeed_unit=ms&start_date=\"+start_date+\"&end_date=\"+end_date\n",
    "\n",
    "\n",
    "import json\n",
    "json.rep = requests.get(complete_url).json()"
   ]
  },
  {
   "cell_type": "code",
   "execution_count": 186,
   "id": "309203a9-cb8c-42a4-924b-baf811c0b175",
   "metadata": {},
   "outputs": [
    {
     "data": {
      "text/html": [
       "<div>\n",
       "<style scoped>\n",
       "    .dataframe tbody tr th:only-of-type {\n",
       "        vertical-align: middle;\n",
       "    }\n",
       "\n",
       "    .dataframe tbody tr th {\n",
       "        vertical-align: top;\n",
       "    }\n",
       "\n",
       "    .dataframe thead th {\n",
       "        text-align: right;\n",
       "    }\n",
       "</style>\n",
       "<table border=\"1\" class=\"dataframe\">\n",
       "  <thead>\n",
       "    <tr style=\"text-align: right;\">\n",
       "      <th></th>\n",
       "      <th>time</th>\n",
       "      <th>windspeed_10m</th>\n",
       "    </tr>\n",
       "  </thead>\n",
       "  <tbody>\n",
       "    <tr>\n",
       "      <th>0</th>\n",
       "      <td>2011-04-23T00:00</td>\n",
       "      <td>2.34</td>\n",
       "    </tr>\n",
       "    <tr>\n",
       "      <th>1</th>\n",
       "      <td>2011-04-23T01:00</td>\n",
       "      <td>2.33</td>\n",
       "    </tr>\n",
       "    <tr>\n",
       "      <th>2</th>\n",
       "      <td>2011-04-23T02:00</td>\n",
       "      <td>1.80</td>\n",
       "    </tr>\n",
       "    <tr>\n",
       "      <th>3</th>\n",
       "      <td>2011-04-23T03:00</td>\n",
       "      <td>1.84</td>\n",
       "    </tr>\n",
       "    <tr>\n",
       "      <th>4</th>\n",
       "      <td>2011-04-23T04:00</td>\n",
       "      <td>1.70</td>\n",
       "    </tr>\n",
       "  </tbody>\n",
       "</table>\n",
       "</div>"
      ],
      "text/plain": [
       "               time  windspeed_10m\n",
       "0  2011-04-23T00:00           2.34\n",
       "1  2011-04-23T01:00           2.33\n",
       "2  2011-04-23T02:00           1.80\n",
       "3  2011-04-23T03:00           1.84\n",
       "4  2011-04-23T04:00           1.70"
      ]
     },
     "execution_count": 186,
     "metadata": {},
     "output_type": "execute_result"
    }
   ],
   "source": [
    "donnees_vent = pd.DataFrame(json.rep['hourly'])\n",
    "donnees_vent.head()"
   ]
  },
  {
   "cell_type": "markdown",
   "id": "65c156aa-4348-4354-bfe4-e29dd2148533",
   "metadata": {},
   "source": [
    "On trace le graph du vent en fonction du temps pour cette éolienne"
   ]
  },
  {
   "cell_type": "code",
   "execution_count": 193,
   "id": "700e2291-5620-40aa-bb9a-fae92d1190cf",
   "metadata": {},
   "outputs": [
    {
     "data": {
      "text/plain": [
       "<AxesSubplot: >"
      ]
     },
     "execution_count": 193,
     "metadata": {},
     "output_type": "execute_result"
    },
    {
     "data": {
      "image/png": "[encoded data removed]",
      "text/plain": [
       "<Figure size 640x480 with 1 Axes>"
      ]
     },
     "metadata": {},
     "output_type": "display_data"
    }
   ],
   "source": [
    "donnees_vent.plot()"
   ]
  },
  {
   "cell_type": "markdown",
   "id": "1592fe96-1eda-44a3-9751-c04a44907ffb",
   "metadata": {},
   "source": [
    "La puissance d'une éolienne est donnée par $P = 1/2 \\rho S V^3$ où $V$ est la vitesse du vent et $S = \\pi/4 d^2$ est la surface de brassage de l'éolienne avec $d$ le diamètre du rotor. \n",
    "Nous avons accès dans nos données à la longueur des pâles des éoliennes donc nous pouvons retrouver la puissance de l'éolienne.\n",
    "L'énergie fournie sur une heure est donc cette puissance multiplié par le temps. Pour une éolienne, on peut considérer un facteur de charge de 16/27 (limite de Betz). Nous allons le prendre en compte pour calculer l'énergie fourni par une éolienne. \n",
    "Nous pourrions aller plus loin en prenant en compte la température et la pression qui influent sur la masse volumique de l'air $\\rho$ et peuvent conduire à une variation de l'ordre de 20%.\n",
    "Un truc intéressant à regarder serait la moyenne du vent par mois."
   ]
  },
  {
   "cell_type": "code",
   "execution_count": 204,
   "id": "6952f814-b5ec-4152-acdb-74783fde352a",
   "metadata": {},
   "outputs": [],
   "source": [
    "rho_air = 1.2\n",
    "\n",
    "def calcul_energie(diametre_rotor,vitesse_vent):\n",
    "    return 16/27/2 * rho_air * np.pi/4 * longueur_pale**2 + np.power(vitesse_vent,3)"
   ]
  },
  {
   "cell_type": "code",
   "execution_count": 205,
   "id": "139b7ae4-e147-4132-a7b7-92fe03b58b21",
   "metadata": {},
   "outputs": [],
   "source": [
    "diametre_rotor = caract_eoliennes['diametre_rotor'][0]"
   ]
  },
  {
   "cell_type": "code",
   "execution_count": 209,
   "id": "3ffd3ef2-c7dc-4e58-a813-e90b7c742c76",
   "metadata": {},
   "outputs": [],
   "source": [
    "donnees_vent['energie'] = calcul_energie(diametre_rotor,donnees_vent['windspeed_10m'])"
   ]
  },
  {
   "cell_type": "code",
   "execution_count": 203,
   "id": "da50ecdf-1714-48bc-b554-1ffc2f777632",
   "metadata": {},
   "outputs": [
    {
     "data": {
      "text/plain": [
       "8"
      ]
     },
     "execution_count": 203,
     "metadata": {},
     "output_type": "execute_result"
    }
   ],
   "source": [
    "donnees_"
   ]
  },
  {
   "cell_type": "code",
   "execution_count": null,
   "id": "36cadfdc-6d13-4712-93fc-e8ffb1a90702",
   "metadata": {},
   "outputs": [],
   "source": []
  }
 ],
 "metadata": {
  "kernelspec": {
   "display_name": "Python 3 (ipykernel)",
   "language": "python",
   "name": "python3"
  },
  "language_info": {
   "codemirror_mode": {
    "name": "ipython",
    "version": 3
   },
   "file_extension": ".py",
   "mimetype": "text/x-python",
   "name": "python",
   "nbconvert_exporter": "python",
   "pygments_lexer": "ipython3",
   "version": "3.10.4"
  }
 },
 "nbformat": 4,
 "nbformat_minor": 5
}
