{
 "cells": [
  {
   "cell_type": "markdown",
   "metadata": {},
   "source": [
    "On télécharge le jeu de données"
   ]
  },
  {
   "cell_type": "code",
   "execution_count": 1,
   "metadata": {
    "tags": []
   },
   "outputs": [],
   "source": [
    "import numpy as np\n",
    "import pandas as pd\n",
    "\n",
    "df = pd.read_csv(\"vent_brut_2022.csv\", sep=\";\")"
   ]
  },
  {
   "cell_type": "markdown",
   "metadata": {},
   "source": [
    "On supprime les colonnes qui ne nous intéressent pas pour garder les suivantes:\n",
    "- Date\n",
    "- Position (latitude, longitude)\n",
    "- Vitesse du vent"
   ]
  },
  {
   "cell_type": "code",
   "execution_count": 2,
   "metadata": {
    "tags": []
   },
   "outputs": [
    {
     "name": "stdout",
     "output_type": "stream",
     "text": [
      "cool\n",
      "cool\n",
      "cool\n",
      "cool\n"
     ]
    }
   ],
   "source": [
    "colonnes_df = df.columns.tolist()\n",
    "colonnes = [\"Date\", \"Latitude\", \"Longitude\", \"Vitesse du vent moyen 10 mn\"]\n",
    "for i in range(len(colonnes_df)):\n",
    "    if colonnes_df[i] not in colonnes:\n",
    "        del df[colonnes_df[i]]\n",
    "    else:\n",
    "        print(\"cool\")"
   ]
  },
  {
   "cell_type": "code",
   "execution_count": 3,
   "metadata": {
    "tags": []
   },
   "outputs": [
    {
     "name": "stdout",
     "output_type": "stream",
     "text": [
      "<class 'pandas.core.frame.DataFrame'>\n",
      "RangeIndex: 160130 entries, 0 to 160129\n",
      "Data columns (total 4 columns):\n",
      " #   Column                       Non-Null Count   Dtype  \n",
      "---  ------                       --------------   -----  \n",
      " 0   Date                         160130 non-null  object \n",
      " 1   Vitesse du vent moyen 10 mn  156132 non-null  float64\n",
      " 2   Latitude                     160130 non-null  float64\n",
      " 3   Longitude                    160130 non-null  float64\n",
      "dtypes: float64(3), object(1)\n",
      "memory usage: 4.9+ MB\n"
     ]
    }
   ],
   "source": [
    "df.info()"
   ]
  },
  {
   "cell_type": "code",
   "execution_count": null,
   "metadata": {},
   "outputs": [],
   "source": []
  }
 ],
 "metadata": {
  "kernelspec": {
   "display_name": "Python 3 (ipykernel)",
   "language": "python",
   "name": "python3"
  },
  "language_info": {
   "codemirror_mode": {
    "name": "ipython",
    "version": 3
   },
   "file_extension": ".py",
   "mimetype": "text/x-python",
   "name": "python",
   "nbconvert_exporter": "python",
   "pygments_lexer": "ipython3",
   "version": "3.10.4"
  }
 },
 "nbformat": 4,
 "nbformat_minor": 4
}
