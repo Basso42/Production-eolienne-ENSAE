{
 "cells": [
  {
   "cell_type": "markdown",
   "metadata": {},
   "source": [
    "### Visualisation des installations éoliennes sur le territoire français"
   ]
  },
  {
   "cell_type": "code",
   "execution_count": 92,
   "metadata": {
    "collapsed": true,
    "jupyter": {
     "outputs_hidden": true
    }
   },
   "outputs": [
    {
     "name": "stdout",
     "output_type": "stream",
     "text": [
      "Requirement already satisfied: matplotlib in c:\\users\\peign\\anaconda3\\lib\\site-packages (3.1.3)\n",
      "Requirement already satisfied: pyparsing!=2.0.4,!=2.1.2,!=2.1.6,>=2.0.1 in c:\\users\\peign\\anaconda3\\lib\\site-packages (from matplotlib) (2.4.6)\n",
      "Requirement already satisfied: kiwisolver>=1.0.1 in c:\\users\\peign\\anaconda3\\lib\\site-packages (from matplotlib) (1.1.0)\n",
      "Requirement already satisfied: python-dateutil>=2.1 in c:\\users\\peign\\anaconda3\\lib\\site-packages (from matplotlib) (2.8.1)\n",
      "Requirement already satisfied: cycler>=0.10 in c:\\users\\peign\\anaconda3\\lib\\site-packages (from matplotlib) (0.10.0)\n",
      "Requirement already satisfied: numpy>=1.11 in c:\\users\\peign\\anaconda3\\lib\\site-packages (from matplotlib) (1.18.1)\n",
      "Requirement already satisfied: setuptools in c:\\users\\peign\\anaconda3\\lib\\site-packages (from kiwisolver>=1.0.1->matplotlib) (45.2.0.post20200210)\n",
      "Requirement already satisfied: six>=1.5 in c:\\users\\peign\\anaconda3\\lib\\site-packages (from python-dateutil>=2.1->matplotlib) (1.14.0)\n",
      "Requirement already satisfied: geopandas in c:\\users\\peign\\anaconda3\\lib\\site-packages (0.10.2)\n",
      "Requirement already satisfied: pyproj>=2.2.0 in c:\\users\\peign\\anaconda3\\lib\\site-packages (from geopandas) (3.2.1)\n",
      "Requirement already satisfied: fiona>=1.8 in c:\\users\\peign\\anaconda3\\lib\\site-packages (from geopandas) (1.8.22)\n",
      "Requirement already satisfied: shapely>=1.6 in c:\\users\\peign\\anaconda3\\lib\\site-packages (from geopandas) (1.8.5.post1)\n",
      "Requirement already satisfied: pandas>=0.25.0 in c:\\users\\peign\\anaconda3\\lib\\site-packages (from geopandas) (1.0.1)\n",
      "Requirement already satisfied: certifi in c:\\users\\peign\\anaconda3\\lib\\site-packages (from pyproj>=2.2.0->geopandas) (2019.11.28)\n",
      "Requirement already satisfied: click-plugins>=1.0 in c:\\users\\peign\\anaconda3\\lib\\site-packages (from fiona>=1.8->geopandas) (1.1.1)\n",
      "Requirement already satisfied: six>=1.7 in c:\\users\\peign\\anaconda3\\lib\\site-packages (from fiona>=1.8->geopandas) (1.14.0)\n",
      "Requirement already satisfied: attrs>=17 in c:\\users\\peign\\anaconda3\\lib\\site-packages (from fiona>=1.8->geopandas) (19.3.0)\n",
      "Requirement already satisfied: cligj>=0.5 in c:\\users\\peign\\anaconda3\\lib\\site-packages (from fiona>=1.8->geopandas) (0.7.2)\n",
      "Requirement already satisfied: munch in c:\\users\\peign\\anaconda3\\lib\\site-packages (from fiona>=1.8->geopandas) (2.5.0)\n",
      "Requirement already satisfied: click>=4.0 in c:\\users\\peign\\anaconda3\\lib\\site-packages (from fiona>=1.8->geopandas) (7.0)\n",
      "Requirement already satisfied: setuptools in c:\\users\\peign\\anaconda3\\lib\\site-packages (from fiona>=1.8->geopandas) (45.2.0.post20200210)\n",
      "Requirement already satisfied: python-dateutil>=2.6.1 in c:\\users\\peign\\anaconda3\\lib\\site-packages (from pandas>=0.25.0->geopandas) (2.8.1)\n",
      "Requirement already satisfied: pytz>=2017.2 in c:\\users\\peign\\anaconda3\\lib\\site-packages (from pandas>=0.25.0->geopandas) (2019.3)\n",
      "Requirement already satisfied: numpy>=1.13.3 in c:\\users\\peign\\anaconda3\\lib\\site-packages (from pandas>=0.25.0->geopandas) (1.18.1)\n",
      "Requirement already satisfied: pandas in c:\\users\\peign\\anaconda3\\lib\\site-packages (1.0.1)\n",
      "Requirement already satisfied: pytz>=2017.2 in c:\\users\\peign\\anaconda3\\lib\\site-packages (from pandas) (2019.3)\n",
      "Requirement already satisfied: numpy>=1.13.3 in c:\\users\\peign\\anaconda3\\lib\\site-packages (from pandas) (1.18.1)\n",
      "Requirement already satisfied: python-dateutil>=2.6.1 in c:\\users\\peign\\anaconda3\\lib\\site-packages (from pandas) (2.8.1)\n",
      "Requirement already satisfied: six>=1.5 in c:\\users\\peign\\anaconda3\\lib\\site-packages (from python-dateutil>=2.6.1->pandas) (1.14.0)\n"
     ]
    }
   ],
   "source": [
    "!pip install matplotlib\n",
    "!pip install geopandas\n",
    "!pip install pandas"
   ]
  },
  {
   "cell_type": "code",
   "execution_count": 93,
   "metadata": {},
   "outputs": [],
   "source": [
    "import pandas as pd\n",
    "import geopandas as gpd\n",
    "import matplotlib.pyplot as plt"
   ]
  },
  {
   "cell_type": "code",
   "execution_count": 94,
   "metadata": {},
   "outputs": [],
   "source": [
    "url = 'https://opendata.agenceore.fr/explore/dataset/installations-de-production-eolien-par-commune/download?format=csv&timezone=Europe/Berlin&use_labels_for_header=false'"
   ]
  },
  {
   "cell_type": "code",
   "execution_count": 95,
   "metadata": {
    "collapsed": true,
    "jupyter": {
     "outputs_hidden": true
    }
   },
   "outputs": [
    {
     "name": "stdout",
     "output_type": "stream",
     "text": [
      "<class 'pandas.core.frame.DataFrame'>\n",
      "RangeIndex: 7552 entries, 0 to 7551\n",
      "Data columns (total 14 columns):\n",
      " #   Column                                               Non-Null Count  Dtype  \n",
      "---  ------                                               --------------  -----  \n",
      " 0   1_f_commune_pdl                                      7552 non-null   object \n",
      " 1   dep                                                  7552 non-null   object \n",
      " 2   nom_dept                                             7552 non-null   object \n",
      " 3   libepci                                              7552 non-null   object \n",
      " 4   reg                                                  7552 non-null   int64  \n",
      " 5   nom_reg                                              7552 non-null   object \n",
      " 6   count                                                7552 non-null   int64  \n",
      " 7   date_des_donnees                                     7552 non-null   object \n",
      " 8   code_epci                                            7552 non-null   int64  \n",
      " 9   s_3_prod_i_regime_d_exploitation                     6230 non-null   object \n",
      " 10  sum_3_prod_e_kw_puissance_de_raccordement_injection  6230 non-null   float64\n",
      " 11  s_3_prod_d_filiere                                   7552 non-null   object \n",
      " 12  coordonnees                                          7552 non-null   object \n",
      " 13  1_f_code_insee_pdl                                   7552 non-null   object \n",
      "dtypes: float64(1), int64(3), object(10)\n",
      "memory usage: 826.1+ KB\n"
     ]
    }
   ],
   "source": [
    "df=pd.read_csv(url, sep = ';')\n",
    "df.head()\n",
    "df.info()"
   ]
  },
  {
   "cell_type": "code",
   "execution_count": 96,
   "metadata": {},
   "outputs": [],
   "source": [
    "df[['Latitude','Longitude']] = df.coordonnees.str.split(\",\",expand=True,)\n",
    "#Je transforme le dataframe en geodataframe grâce à la géométrie que j'ai obtenue en séparant la colonne 'coordonnees' en deux colonnes.\n",
    "gdf = gpd.GeoDataFrame( df, geometry=gpd.points_from_xy(df.Longitude, df.Latitude))"
   ]
  },
  {
   "cell_type": "code",
   "execution_count": 97,
   "metadata": {
    "collapsed": true,
    "jupyter": {
     "outputs_hidden": true
    }
   },
   "outputs": [
    {
     "name": "stdout",
     "output_type": "stream",
     "text": [
      "C:\\Users\\peign\\ProjPython2A\\cartogether\\cartogether\\cartogether\\cartogether\n"
     ]
    },
    {
     "name": "stderr",
     "output_type": "stream",
     "text": [
      "Cloning into 'cartogether'...\n"
     ]
    },
    {
     "name": "stdout",
     "output_type": "stream",
     "text": [
      "Requirement already satisfied: requests in c:\\users\\peign\\anaconda3\\lib\\site-packages (from -r requirements.txt (line 1)) (2.22.0)\n",
      "Requirement already satisfied: py7zr in c:\\users\\peign\\anaconda3\\lib\\site-packages (from -r requirements.txt (line 2)) (0.20.2)\n",
      "Requirement already satisfied: geopandas in c:\\users\\peign\\anaconda3\\lib\\site-packages (from -r requirements.txt (line 3)) (0.10.2)\n",
      "Requirement already satisfied: tqdm in c:\\users\\peign\\anaconda3\\lib\\site-packages (from -r requirements.txt (line 4)) (4.42.1)\n",
      "Requirement already satisfied: s3fs in c:\\users\\peign\\anaconda3\\lib\\site-packages (from -r requirements.txt (line 5)) (2022.11.0)\n",
      "Requirement already satisfied: PyYAML in c:\\users\\peign\\anaconda3\\lib\\site-packages (from -r requirements.txt (line 6)) (5.3)\n",
      "Requirement already satisfied: urllib3!=1.25.0,!=1.25.1,<1.26,>=1.21.1 in c:\\users\\peign\\anaconda3\\lib\\site-packages (from requests->-r requirements.txt (line 1)) (1.25.8)\n",
      "Requirement already satisfied: idna<2.9,>=2.5 in c:\\users\\peign\\anaconda3\\lib\\site-packages (from requests->-r requirements.txt (line 1)) (2.8)\n",
      "Requirement already satisfied: certifi>=2017.4.17 in c:\\users\\peign\\anaconda3\\lib\\site-packages (from requests->-r requirements.txt (line 1)) (2019.11.28)\n",
      "Requirement already satisfied: chardet<3.1.0,>=3.0.2 in c:\\users\\peign\\anaconda3\\lib\\site-packages (from requests->-r requirements.txt (line 1)) (3.0.4)\n",
      "Requirement already satisfied: pyppmd<1.1.0,>=0.18.1 in c:\\users\\peign\\anaconda3\\lib\\site-packages (from py7zr->-r requirements.txt (line 2)) (1.0.0)\n",
      "Requirement already satisfied: pyzstd>=0.14.4 in c:\\users\\peign\\anaconda3\\lib\\site-packages (from py7zr->-r requirements.txt (line 2)) (0.15.3)\n",
      "Requirement already satisfied: psutil in c:\\users\\peign\\anaconda3\\lib\\site-packages (from py7zr->-r requirements.txt (line 2)) (5.6.7)\n",
      "Requirement already satisfied: brotli>=1.0.9; platform_python_implementation == \"CPython\" in c:\\users\\peign\\anaconda3\\lib\\site-packages (from py7zr->-r requirements.txt (line 2)) (1.0.9)\n",
      "Requirement already satisfied: inflate64>=0.3.1; python_version > \"3.6\" in c:\\users\\peign\\anaconda3\\lib\\site-packages (from py7zr->-r requirements.txt (line 2)) (0.3.1)\n",
      "Requirement already satisfied: texttable in c:\\users\\peign\\anaconda3\\lib\\site-packages (from py7zr->-r requirements.txt (line 2)) (1.6.4)\n",
      "Requirement already satisfied: pybcj>=0.6.0 in c:\\users\\peign\\anaconda3\\lib\\site-packages (from py7zr->-r requirements.txt (line 2)) (1.0.1)\n",
      "Requirement already satisfied: pycryptodomex>=3.6.6 in c:\\users\\peign\\anaconda3\\lib\\site-packages (from py7zr->-r requirements.txt (line 2)) (3.15.0)\n",
      "Requirement already satisfied: multivolumefile>=0.2.3 in c:\\users\\peign\\anaconda3\\lib\\site-packages (from py7zr->-r requirements.txt (line 2)) (0.2.3)\n",
      "Requirement already satisfied: importlib-metadata; python_version < \"3.8\" in c:\\users\\peign\\anaconda3\\lib\\site-packages (from py7zr->-r requirements.txt (line 2)) (1.5.0)\n",
      "Requirement already satisfied: shapely>=1.6 in c:\\users\\peign\\anaconda3\\lib\\site-packages (from geopandas->-r requirements.txt (line 3)) (1.8.5.post1)\n",
      "Requirement already satisfied: fiona>=1.8 in c:\\users\\peign\\anaconda3\\lib\\site-packages (from geopandas->-r requirements.txt (line 3)) (1.8.22)\n",
      "Requirement already satisfied: pandas>=0.25.0 in c:\\users\\peign\\anaconda3\\lib\\site-packages (from geopandas->-r requirements.txt (line 3)) (1.0.1)\n",
      "Requirement already satisfied: pyproj>=2.2.0 in c:\\users\\peign\\anaconda3\\lib\\site-packages (from geopandas->-r requirements.txt (line 3)) (3.2.1)\n",
      "Requirement already satisfied: fsspec==2022.11.0 in c:\\users\\peign\\anaconda3\\lib\\site-packages (from s3fs->-r requirements.txt (line 5)) (2022.11.0)\n",
      "Requirement already satisfied: aiohttp!=4.0.0a0,!=4.0.0a1 in c:\\users\\peign\\anaconda3\\lib\\site-packages (from s3fs->-r requirements.txt (line 5)) (3.8.3)\n",
      "Requirement already satisfied: aiobotocore~=2.4.0 in c:\\users\\peign\\anaconda3\\lib\\site-packages (from s3fs->-r requirements.txt (line 5)) (2.4.0)\n",
      "Requirement already satisfied: zipp>=0.5 in c:\\users\\peign\\anaconda3\\lib\\site-packages (from importlib-metadata; python_version < \"3.8\"->py7zr->-r requirements.txt (line 2)) (2.2.0)\n",
      "Requirement already satisfied: six>=1.7 in c:\\users\\peign\\anaconda3\\lib\\site-packages (from fiona>=1.8->geopandas->-r requirements.txt (line 3)) (1.14.0)\n",
      "Requirement already satisfied: click-plugins>=1.0 in c:\\users\\peign\\anaconda3\\lib\\site-packages (from fiona>=1.8->geopandas->-r requirements.txt (line 3)) (1.1.1)\n",
      "Requirement already satisfied: cligj>=0.5 in c:\\users\\peign\\anaconda3\\lib\\site-packages (from fiona>=1.8->geopandas->-r requirements.txt (line 3)) (0.7.2)\n",
      "Requirement already satisfied: munch in c:\\users\\peign\\anaconda3\\lib\\site-packages (from fiona>=1.8->geopandas->-r requirements.txt (line 3)) (2.5.0)\n",
      "Requirement already satisfied: click>=4.0 in c:\\users\\peign\\anaconda3\\lib\\site-packages (from fiona>=1.8->geopandas->-r requirements.txt (line 3)) (7.0)\n",
      "Requirement already satisfied: attrs>=17 in c:\\users\\peign\\anaconda3\\lib\\site-packages (from fiona>=1.8->geopandas->-r requirements.txt (line 3)) (19.3.0)\n",
      "Requirement already satisfied: setuptools in c:\\users\\peign\\anaconda3\\lib\\site-packages (from fiona>=1.8->geopandas->-r requirements.txt (line 3)) (45.2.0.post20200210)\n",
      "Requirement already satisfied: numpy>=1.13.3 in c:\\users\\peign\\anaconda3\\lib\\site-packages (from pandas>=0.25.0->geopandas->-r requirements.txt (line 3)) (1.18.1)\n",
      "Requirement already satisfied: python-dateutil>=2.6.1 in c:\\users\\peign\\anaconda3\\lib\\site-packages (from pandas>=0.25.0->geopandas->-r requirements.txt (line 3)) (2.8.1)\n",
      "Requirement already satisfied: pytz>=2017.2 in c:\\users\\peign\\anaconda3\\lib\\site-packages (from pandas>=0.25.0->geopandas->-r requirements.txt (line 3)) (2019.3)\n",
      "Requirement already satisfied: multidict<7.0,>=4.5 in c:\\users\\peign\\anaconda3\\lib\\site-packages (from aiohttp!=4.0.0a0,!=4.0.0a1->s3fs->-r requirements.txt (line 5)) (6.0.2)\n",
      "Requirement already satisfied: charset-normalizer<3.0,>=2.0 in c:\\users\\peign\\anaconda3\\lib\\site-packages (from aiohttp!=4.0.0a0,!=4.0.0a1->s3fs->-r requirements.txt (line 5)) (2.1.1)\n",
      "Requirement already satisfied: yarl<2.0,>=1.0 in c:\\users\\peign\\anaconda3\\lib\\site-packages (from aiohttp!=4.0.0a0,!=4.0.0a1->s3fs->-r requirements.txt (line 5)) (1.8.1)\n",
      "Requirement already satisfied: aiosignal>=1.1.2 in c:\\users\\peign\\anaconda3\\lib\\site-packages (from aiohttp!=4.0.0a0,!=4.0.0a1->s3fs->-r requirements.txt (line 5)) (1.3.1)\n",
      "Requirement already satisfied: asynctest==0.13.0; python_version < \"3.8\" in c:\\users\\peign\\anaconda3\\lib\\site-packages (from aiohttp!=4.0.0a0,!=4.0.0a1->s3fs->-r requirements.txt (line 5)) (0.13.0)\n",
      "Requirement already satisfied: async-timeout<5.0,>=4.0.0a3 in c:\\users\\peign\\anaconda3\\lib\\site-packages (from aiohttp!=4.0.0a0,!=4.0.0a1->s3fs->-r requirements.txt (line 5)) (4.0.2)\n",
      "Requirement already satisfied: frozenlist>=1.1.1 in c:\\users\\peign\\anaconda3\\lib\\site-packages (from aiohttp!=4.0.0a0,!=4.0.0a1->s3fs->-r requirements.txt (line 5)) (1.3.3)\n",
      "Requirement already satisfied: typing-extensions>=3.7.4; python_version < \"3.8\" in c:\\users\\peign\\anaconda3\\lib\\site-packages (from aiohttp!=4.0.0a0,!=4.0.0a1->s3fs->-r requirements.txt (line 5)) (4.4.0)\n",
      "Requirement already satisfied: wrapt>=1.10.10 in c:\\users\\peign\\anaconda3\\lib\\site-packages (from aiobotocore~=2.4.0->s3fs->-r requirements.txt (line 5)) (1.11.2)\n",
      "Requirement already satisfied: aioitertools>=0.5.1 in c:\\users\\peign\\anaconda3\\lib\\site-packages (from aiobotocore~=2.4.0->s3fs->-r requirements.txt (line 5)) (0.11.0)\n",
      "Requirement already satisfied: botocore<1.27.60,>=1.27.59 in c:\\users\\peign\\anaconda3\\lib\\site-packages (from aiobotocore~=2.4.0->s3fs->-r requirements.txt (line 5)) (1.27.59)\n",
      "Requirement already satisfied: jmespath<2.0.0,>=0.7.1 in c:\\users\\peign\\anaconda3\\lib\\site-packages (from botocore<1.27.60,>=1.27.59->aiobotocore~=2.4.0->s3fs->-r requirements.txt (line 5)) (1.0.1)\n",
      "Processing c:\\users\\peign\\projpython2a\\cartogether\\cartogether\\cartogether\\cartogether\n",
      "  Installing build dependencies: started\n",
      "  Installing build dependencies: finished with status 'done'\n",
      "  Getting requirements to build wheel: started\n",
      "  Getting requirements to build wheel: finished with status 'done'\n",
      "    Preparing wheel metadata: started\n",
      "    Preparing wheel metadata: finished with status 'done'\n"
     ]
    },
    {
     "name": "stderr",
     "output_type": "stream",
     "text": [
      "ERROR: Package 'cartiflette-0.0.1' requires a different Python: 3.7.6 not in '>=3.8'\n"
     ]
    }
   ],
   "source": [
    "#Next step, utiliser Cartiflette et les contours communaux français et plot les éoliennes en France.\n",
    "!git clone https://github.com/InseeFrLab/cartogether.git\n",
    "%cd ./cartogether\n",
    "!pip install -r requirements.txt\n",
    "!pip install ."
   ]
  },
  {
   "cell_type": "code",
   "execution_count": null,
   "metadata": {},
   "outputs": [],
   "source": [
    "import cartiflette.s3\n",
    "\n",
    "#Liste des codes INSEE des régions de la métropole\n",
    "liste_reg = [\"84\",\"27\",\"53\",\"24\",\"94\",\"44\",\"32\",\"11\",\"28\",\"75\",\"76\",\"52\",\"93\"]\n",
    "\n",
    "#Affichage de la carte de la France (il faut compter 15mn pour que la carte s'affiche (lol))\n",
    "shp_communes = cartiflette.s3.download_vectorfile_url_all(\n",
    "    values = liste_reg,\n",
    "    level = \"DEPARTEMENT\"\n",
    "    vectorfile_format=\"geojson\",\n",
    "    decoupage=\"region\",\n",
    "    year=2022)\n",
    "\n",
    "ax = shp_communes.plot()\n",
    "ax.set_axis_off()"
   ]
  },
  {
   "cell_type": "code",
   "execution_count": null,
   "metadata": {},
   "outputs": [],
   "source": []
  }
 ],
 "metadata": {
  "kernelspec": {
   "display_name": "Python 3",
   "language": "python",
   "name": "python3"
  },
  "language_info": {
   "codemirror_mode": {
    "name": "ipython",
    "version": 3
   },
   "file_extension": ".py",
   "mimetype": "text/x-python",
   "name": "python",
   "nbconvert_exporter": "python",
   "pygments_lexer": "ipython3",
   "version": "3.7.6"
  }
 },
 "nbformat": 4,
 "nbformat_minor": 5
}
