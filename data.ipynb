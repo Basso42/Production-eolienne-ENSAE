{
 "cells": [
  {
   "cell_type": "code",
   "execution_count": 1,
   "id": "e9fd800e-dd30-47a6-86f7-13ab9fb5e7cd",
   "metadata": {},
   "outputs": [],
   "source": [
    "import numpy as np\n",
    "import torch\n",
    "from torch.distributions import MultivariateNormal\n",
    "from torch.distributions import Independent, Normal"
   ]
  },
  {
   "cell_type": "code",
   "execution_count": 2,
   "id": "215438d7-8663-4492-a03c-6475c9fda481",
   "metadata": {},
   "outputs": [],
   "source": [
    "latent_dim = 20\n",
    "x = MultivariateNormal(torch.ones(latent_dim), torch.eye(latent_dim)).sample()"
   ]
  },
  {
   "cell_type": "code",
   "execution_count": 32,
   "id": "c5318f74-94b2-4997-9955-3c425e376537",
   "metadata": {},
   "outputs": [],
   "source": [
    "def q(A,b):\n",
    "    q = MultivariateNormal(A*x + b, (2/3)*torch.eye(latent_dim)).sample()\n",
    "    return q"
   ]
  },
  {
   "cell_type": "code",
   "execution_count": 33,
   "id": "d4cb59cf-506f-43f5-b6c1-9b82737e8cca",
   "metadata": {},
   "outputs": [],
   "source": [
    "q_zx = q(1,10)"
   ]
  },
  {
   "cell_type": "code",
   "execution_count": 35,
   "id": "c32fca6c-9c8d-41b1-85fa-4f8711350a13",
   "metadata": {},
   "outputs": [],
   "source": [
    "def p(theta,z):\n",
    "    m = MultivariateNormal(theta, torch.eye(latent_dim)).sample()\n",
    "    p = m*MultivariateNormal(z, torch.eye(latent_dim)).sample()\n",
    "    return p"
   ]
  },
  {
   "cell_type": "code",
   "execution_count": 36,
   "id": "0331ca75-c74a-499b-97b4-5b85e8e49bfb",
   "metadata": {},
   "outputs": [],
   "source": [
    "p_zx = p(torch.ones(latent_dim), q_zx)"
   ]
  }
 ],
 "metadata": {
  "kernelspec": {
   "display_name": "Python 3 (ipykernel)",
   "language": "python",
   "name": "python3"
  },
  "language_info": {
   "codemirror_mode": {
    "name": "ipython",
    "version": 3
   },
   "file_extension": ".py",
   "mimetype": "text/x-python",
   "name": "python",
   "nbconvert_exporter": "python",
   "pygments_lexer": "ipython3",
   "version": "3.9.13"
  }
 },
 "nbformat": 4,
 "nbformat_minor": 5
}
